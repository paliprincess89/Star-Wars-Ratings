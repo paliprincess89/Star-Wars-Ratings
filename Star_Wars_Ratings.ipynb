{
 "cells": [
  {
   "cell_type": "markdown",
   "metadata": {
    "collapsed": true
   },
   "source": [
    "# Does America Agree That \"The Empire Strikes Back\" is the Best Star Wars Movie?"
   ]
  },
  {
   "cell_type": "markdown",
   "metadata": {},
   "source": [
    "**For this analysis, we will be using a survey by FiveThirtyEight with a total of 835 responses to answer the following question:**\n",
    "* **\"Does the rest of America realize that “The Empire Strikes Back” is clearly the best of the bunch?\"**\n",
    "\n",
    "**We will also answer these secondary questions:**\n",
    "* How many respondants have seen each film in the franchise?\n",
    "* Which film is the best ranked?\n",
    "* Which film is the worst ranked?\n",
    "* Which gender is more likely to watch Star Wars?\n",
    "* Does gender play a role in movie rankings?\n",
    "* How many respondants consider themselves fans?\n",
    "* What is the movie ranking difference between fans and non-fans who have seen the films?\n",
    "* Does Education level have any correlation with having seen the movies?\n",
    "* Does Education level affect the movie rankings?\n",
    "* Who do respondants think shot first: Han Solo or Greedo?\n",
    "* Which characters are the most favorable?\n",
    "* Which characters are the least favorable?\n",
    "* Which characters are the most controversial (both favorable and unfavorable)"
   ]
  },
  {
   "cell_type": "markdown",
   "metadata": {},
   "source": [
    "You can find this dataset here https://github.com/fivethirtyeight/data/tree/master/star-wars-survey if you'd like to download and check it out for yourself."
   ]
  },
  {
   "cell_type": "markdown",
   "metadata": {},
   "source": [
    "## Importing and Exploring the Data"
   ]
  },
  {
   "cell_type": "code",
   "execution_count": 1,
   "metadata": {
    "collapsed": true
   },
   "outputs": [],
   "source": [
    "import pandas as pd\n",
    "star_wars = pd.read_csv(\"star_wars.csv\", encoding=\"ISO-8859-1\")"
   ]
  },
  {
   "cell_type": "code",
   "execution_count": 2,
   "metadata": {
    "scrolled": true
   },
   "outputs": [
    {
     "data": {
      "text/html": [
       "<div>\n",
       "<style scoped>\n",
       "    .dataframe tbody tr th:only-of-type {\n",
       "        vertical-align: middle;\n",
       "    }\n",
       "\n",
       "    .dataframe tbody tr th {\n",
       "        vertical-align: top;\n",
       "    }\n",
       "\n",
       "    .dataframe thead th {\n",
       "        text-align: right;\n",
       "    }\n",
       "</style>\n",
       "<table border=\"1\" class=\"dataframe\">\n",
       "  <thead>\n",
       "    <tr style=\"text-align: right;\">\n",
       "      <th></th>\n",
       "      <th>RespondentID</th>\n",
       "      <th>Have you seen any of the 6 films in the Star Wars franchise?</th>\n",
       "      <th>Do you consider yourself to be a fan of the Star Wars film franchise?</th>\n",
       "      <th>Which of the following Star Wars films have you seen? Please select all that apply.</th>\n",
       "      <th>Unnamed: 4</th>\n",
       "      <th>Unnamed: 5</th>\n",
       "      <th>Unnamed: 6</th>\n",
       "      <th>Unnamed: 7</th>\n",
       "      <th>Unnamed: 8</th>\n",
       "      <th>Please rank the Star Wars films in order of preference with 1 being your favorite film in the franchise and 6 being your least favorite film.</th>\n",
       "      <th>...</th>\n",
       "      <th>Unnamed: 28</th>\n",
       "      <th>Which character shot first?</th>\n",
       "      <th>Are you familiar with the Expanded Universe?</th>\n",
       "      <th>Do you consider yourself to be a fan of the Expanded Universe?ÂÃ¦</th>\n",
       "      <th>Do you consider yourself to be a fan of the Star Trek franchise?</th>\n",
       "      <th>Gender</th>\n",
       "      <th>Age</th>\n",
       "      <th>Household Income</th>\n",
       "      <th>Education</th>\n",
       "      <th>Location (Census Region)</th>\n",
       "    </tr>\n",
       "  </thead>\n",
       "  <tbody>\n",
       "    <tr>\n",
       "      <th>0</th>\n",
       "      <td>NaN</td>\n",
       "      <td>Response</td>\n",
       "      <td>Response</td>\n",
       "      <td>Star Wars: Episode I  The Phantom Menace</td>\n",
       "      <td>Star Wars: Episode II  Attack of the Clones</td>\n",
       "      <td>Star Wars: Episode III  Revenge of the Sith</td>\n",
       "      <td>Star Wars: Episode IV  A New Hope</td>\n",
       "      <td>Star Wars: Episode V The Empire Strikes Back</td>\n",
       "      <td>Star Wars: Episode VI Return of the Jedi</td>\n",
       "      <td>Star Wars: Episode I  The Phantom Menace</td>\n",
       "      <td>...</td>\n",
       "      <td>Yoda</td>\n",
       "      <td>Response</td>\n",
       "      <td>Response</td>\n",
       "      <td>Response</td>\n",
       "      <td>Response</td>\n",
       "      <td>Response</td>\n",
       "      <td>Response</td>\n",
       "      <td>Response</td>\n",
       "      <td>Response</td>\n",
       "      <td>Response</td>\n",
       "    </tr>\n",
       "    <tr>\n",
       "      <th>1</th>\n",
       "      <td>3.292880e+09</td>\n",
       "      <td>Yes</td>\n",
       "      <td>Yes</td>\n",
       "      <td>Star Wars: Episode I  The Phantom Menace</td>\n",
       "      <td>Star Wars: Episode II  Attack of the Clones</td>\n",
       "      <td>Star Wars: Episode III  Revenge of the Sith</td>\n",
       "      <td>Star Wars: Episode IV  A New Hope</td>\n",
       "      <td>Star Wars: Episode V The Empire Strikes Back</td>\n",
       "      <td>Star Wars: Episode VI Return of the Jedi</td>\n",
       "      <td>3</td>\n",
       "      <td>...</td>\n",
       "      <td>Very favorably</td>\n",
       "      <td>I don't understand this question</td>\n",
       "      <td>Yes</td>\n",
       "      <td>No</td>\n",
       "      <td>No</td>\n",
       "      <td>Male</td>\n",
       "      <td>18-29</td>\n",
       "      <td>NaN</td>\n",
       "      <td>High school degree</td>\n",
       "      <td>South Atlantic</td>\n",
       "    </tr>\n",
       "    <tr>\n",
       "      <th>2</th>\n",
       "      <td>3.292880e+09</td>\n",
       "      <td>No</td>\n",
       "      <td>NaN</td>\n",
       "      <td>NaN</td>\n",
       "      <td>NaN</td>\n",
       "      <td>NaN</td>\n",
       "      <td>NaN</td>\n",
       "      <td>NaN</td>\n",
       "      <td>NaN</td>\n",
       "      <td>NaN</td>\n",
       "      <td>...</td>\n",
       "      <td>NaN</td>\n",
       "      <td>NaN</td>\n",
       "      <td>NaN</td>\n",
       "      <td>NaN</td>\n",
       "      <td>Yes</td>\n",
       "      <td>Male</td>\n",
       "      <td>18-29</td>\n",
       "      <td>$0 - $24,999</td>\n",
       "      <td>Bachelor degree</td>\n",
       "      <td>West South Central</td>\n",
       "    </tr>\n",
       "    <tr>\n",
       "      <th>3</th>\n",
       "      <td>3.292765e+09</td>\n",
       "      <td>Yes</td>\n",
       "      <td>No</td>\n",
       "      <td>Star Wars: Episode I  The Phantom Menace</td>\n",
       "      <td>Star Wars: Episode II  Attack of the Clones</td>\n",
       "      <td>Star Wars: Episode III  Revenge of the Sith</td>\n",
       "      <td>NaN</td>\n",
       "      <td>NaN</td>\n",
       "      <td>NaN</td>\n",
       "      <td>1</td>\n",
       "      <td>...</td>\n",
       "      <td>Unfamiliar (N/A)</td>\n",
       "      <td>I don't understand this question</td>\n",
       "      <td>No</td>\n",
       "      <td>NaN</td>\n",
       "      <td>No</td>\n",
       "      <td>Male</td>\n",
       "      <td>18-29</td>\n",
       "      <td>$0 - $24,999</td>\n",
       "      <td>High school degree</td>\n",
       "      <td>West North Central</td>\n",
       "    </tr>\n",
       "    <tr>\n",
       "      <th>4</th>\n",
       "      <td>3.292763e+09</td>\n",
       "      <td>Yes</td>\n",
       "      <td>Yes</td>\n",
       "      <td>Star Wars: Episode I  The Phantom Menace</td>\n",
       "      <td>Star Wars: Episode II  Attack of the Clones</td>\n",
       "      <td>Star Wars: Episode III  Revenge of the Sith</td>\n",
       "      <td>Star Wars: Episode IV  A New Hope</td>\n",
       "      <td>Star Wars: Episode V The Empire Strikes Back</td>\n",
       "      <td>Star Wars: Episode VI Return of the Jedi</td>\n",
       "      <td>5</td>\n",
       "      <td>...</td>\n",
       "      <td>Very favorably</td>\n",
       "      <td>I don't understand this question</td>\n",
       "      <td>No</td>\n",
       "      <td>NaN</td>\n",
       "      <td>Yes</td>\n",
       "      <td>Male</td>\n",
       "      <td>18-29</td>\n",
       "      <td>$100,000 - $149,999</td>\n",
       "      <td>Some college or Associate degree</td>\n",
       "      <td>West North Central</td>\n",
       "    </tr>\n",
       "    <tr>\n",
       "      <th>5</th>\n",
       "      <td>3.292731e+09</td>\n",
       "      <td>Yes</td>\n",
       "      <td>Yes</td>\n",
       "      <td>Star Wars: Episode I  The Phantom Menace</td>\n",
       "      <td>Star Wars: Episode II  Attack of the Clones</td>\n",
       "      <td>Star Wars: Episode III  Revenge of the Sith</td>\n",
       "      <td>Star Wars: Episode IV  A New Hope</td>\n",
       "      <td>Star Wars: Episode V The Empire Strikes Back</td>\n",
       "      <td>Star Wars: Episode VI Return of the Jedi</td>\n",
       "      <td>5</td>\n",
       "      <td>...</td>\n",
       "      <td>Somewhat favorably</td>\n",
       "      <td>Greedo</td>\n",
       "      <td>Yes</td>\n",
       "      <td>No</td>\n",
       "      <td>No</td>\n",
       "      <td>Male</td>\n",
       "      <td>18-29</td>\n",
       "      <td>$100,000 - $149,999</td>\n",
       "      <td>Some college or Associate degree</td>\n",
       "      <td>West North Central</td>\n",
       "    </tr>\n",
       "    <tr>\n",
       "      <th>6</th>\n",
       "      <td>3.292719e+09</td>\n",
       "      <td>Yes</td>\n",
       "      <td>Yes</td>\n",
       "      <td>Star Wars: Episode I  The Phantom Menace</td>\n",
       "      <td>Star Wars: Episode II  Attack of the Clones</td>\n",
       "      <td>Star Wars: Episode III  Revenge of the Sith</td>\n",
       "      <td>Star Wars: Episode IV  A New Hope</td>\n",
       "      <td>Star Wars: Episode V The Empire Strikes Back</td>\n",
       "      <td>Star Wars: Episode VI Return of the Jedi</td>\n",
       "      <td>1</td>\n",
       "      <td>...</td>\n",
       "      <td>Very favorably</td>\n",
       "      <td>Han</td>\n",
       "      <td>Yes</td>\n",
       "      <td>No</td>\n",
       "      <td>Yes</td>\n",
       "      <td>Male</td>\n",
       "      <td>18-29</td>\n",
       "      <td>$25,000 - $49,999</td>\n",
       "      <td>Bachelor degree</td>\n",
       "      <td>Middle Atlantic</td>\n",
       "    </tr>\n",
       "    <tr>\n",
       "      <th>7</th>\n",
       "      <td>3.292685e+09</td>\n",
       "      <td>Yes</td>\n",
       "      <td>Yes</td>\n",
       "      <td>Star Wars: Episode I  The Phantom Menace</td>\n",
       "      <td>Star Wars: Episode II  Attack of the Clones</td>\n",
       "      <td>Star Wars: Episode III  Revenge of the Sith</td>\n",
       "      <td>Star Wars: Episode IV  A New Hope</td>\n",
       "      <td>Star Wars: Episode V The Empire Strikes Back</td>\n",
       "      <td>Star Wars: Episode VI Return of the Jedi</td>\n",
       "      <td>6</td>\n",
       "      <td>...</td>\n",
       "      <td>Very favorably</td>\n",
       "      <td>Han</td>\n",
       "      <td>Yes</td>\n",
       "      <td>No</td>\n",
       "      <td>No</td>\n",
       "      <td>Male</td>\n",
       "      <td>18-29</td>\n",
       "      <td>NaN</td>\n",
       "      <td>High school degree</td>\n",
       "      <td>East North Central</td>\n",
       "    </tr>\n",
       "    <tr>\n",
       "      <th>8</th>\n",
       "      <td>3.292664e+09</td>\n",
       "      <td>Yes</td>\n",
       "      <td>Yes</td>\n",
       "      <td>Star Wars: Episode I  The Phantom Menace</td>\n",
       "      <td>Star Wars: Episode II  Attack of the Clones</td>\n",
       "      <td>Star Wars: Episode III  Revenge of the Sith</td>\n",
       "      <td>Star Wars: Episode IV  A New Hope</td>\n",
       "      <td>Star Wars: Episode V The Empire Strikes Back</td>\n",
       "      <td>Star Wars: Episode VI Return of the Jedi</td>\n",
       "      <td>4</td>\n",
       "      <td>...</td>\n",
       "      <td>Very favorably</td>\n",
       "      <td>Han</td>\n",
       "      <td>No</td>\n",
       "      <td>NaN</td>\n",
       "      <td>Yes</td>\n",
       "      <td>Male</td>\n",
       "      <td>18-29</td>\n",
       "      <td>NaN</td>\n",
       "      <td>High school degree</td>\n",
       "      <td>South Atlantic</td>\n",
       "    </tr>\n",
       "    <tr>\n",
       "      <th>9</th>\n",
       "      <td>3.292654e+09</td>\n",
       "      <td>Yes</td>\n",
       "      <td>Yes</td>\n",
       "      <td>Star Wars: Episode I  The Phantom Menace</td>\n",
       "      <td>Star Wars: Episode II  Attack of the Clones</td>\n",
       "      <td>Star Wars: Episode III  Revenge of the Sith</td>\n",
       "      <td>Star Wars: Episode IV  A New Hope</td>\n",
       "      <td>Star Wars: Episode V The Empire Strikes Back</td>\n",
       "      <td>Star Wars: Episode VI Return of the Jedi</td>\n",
       "      <td>5</td>\n",
       "      <td>...</td>\n",
       "      <td>Somewhat favorably</td>\n",
       "      <td>Han</td>\n",
       "      <td>No</td>\n",
       "      <td>NaN</td>\n",
       "      <td>No</td>\n",
       "      <td>Male</td>\n",
       "      <td>18-29</td>\n",
       "      <td>$0 - $24,999</td>\n",
       "      <td>Some college or Associate degree</td>\n",
       "      <td>South Atlantic</td>\n",
       "    </tr>\n",
       "  </tbody>\n",
       "</table>\n",
       "<p>10 rows × 38 columns</p>\n",
       "</div>"
      ],
      "text/plain": [
       "   RespondentID Have you seen any of the 6 films in the Star Wars franchise?  \\\n",
       "0           NaN                                           Response             \n",
       "1  3.292880e+09                                                Yes             \n",
       "2  3.292880e+09                                                 No             \n",
       "3  3.292765e+09                                                Yes             \n",
       "4  3.292763e+09                                                Yes             \n",
       "5  3.292731e+09                                                Yes             \n",
       "6  3.292719e+09                                                Yes             \n",
       "7  3.292685e+09                                                Yes             \n",
       "8  3.292664e+09                                                Yes             \n",
       "9  3.292654e+09                                                Yes             \n",
       "\n",
       "  Do you consider yourself to be a fan of the Star Wars film franchise?  \\\n",
       "0                                           Response                      \n",
       "1                                                Yes                      \n",
       "2                                                NaN                      \n",
       "3                                                 No                      \n",
       "4                                                Yes                      \n",
       "5                                                Yes                      \n",
       "6                                                Yes                      \n",
       "7                                                Yes                      \n",
       "8                                                Yes                      \n",
       "9                                                Yes                      \n",
       "\n",
       "  Which of the following Star Wars films have you seen? Please select all that apply.  \\\n",
       "0           Star Wars: Episode I  The Phantom Menace                                    \n",
       "1           Star Wars: Episode I  The Phantom Menace                                    \n",
       "2                                                NaN                                    \n",
       "3           Star Wars: Episode I  The Phantom Menace                                    \n",
       "4           Star Wars: Episode I  The Phantom Menace                                    \n",
       "5           Star Wars: Episode I  The Phantom Menace                                    \n",
       "6           Star Wars: Episode I  The Phantom Menace                                    \n",
       "7           Star Wars: Episode I  The Phantom Menace                                    \n",
       "8           Star Wars: Episode I  The Phantom Menace                                    \n",
       "9           Star Wars: Episode I  The Phantom Menace                                    \n",
       "\n",
       "                                    Unnamed: 4  \\\n",
       "0  Star Wars: Episode II  Attack of the Clones   \n",
       "1  Star Wars: Episode II  Attack of the Clones   \n",
       "2                                          NaN   \n",
       "3  Star Wars: Episode II  Attack of the Clones   \n",
       "4  Star Wars: Episode II  Attack of the Clones   \n",
       "5  Star Wars: Episode II  Attack of the Clones   \n",
       "6  Star Wars: Episode II  Attack of the Clones   \n",
       "7  Star Wars: Episode II  Attack of the Clones   \n",
       "8  Star Wars: Episode II  Attack of the Clones   \n",
       "9  Star Wars: Episode II  Attack of the Clones   \n",
       "\n",
       "                                    Unnamed: 5  \\\n",
       "0  Star Wars: Episode III  Revenge of the Sith   \n",
       "1  Star Wars: Episode III  Revenge of the Sith   \n",
       "2                                          NaN   \n",
       "3  Star Wars: Episode III  Revenge of the Sith   \n",
       "4  Star Wars: Episode III  Revenge of the Sith   \n",
       "5  Star Wars: Episode III  Revenge of the Sith   \n",
       "6  Star Wars: Episode III  Revenge of the Sith   \n",
       "7  Star Wars: Episode III  Revenge of the Sith   \n",
       "8  Star Wars: Episode III  Revenge of the Sith   \n",
       "9  Star Wars: Episode III  Revenge of the Sith   \n",
       "\n",
       "                          Unnamed: 6  \\\n",
       "0  Star Wars: Episode IV  A New Hope   \n",
       "1  Star Wars: Episode IV  A New Hope   \n",
       "2                                NaN   \n",
       "3                                NaN   \n",
       "4  Star Wars: Episode IV  A New Hope   \n",
       "5  Star Wars: Episode IV  A New Hope   \n",
       "6  Star Wars: Episode IV  A New Hope   \n",
       "7  Star Wars: Episode IV  A New Hope   \n",
       "8  Star Wars: Episode IV  A New Hope   \n",
       "9  Star Wars: Episode IV  A New Hope   \n",
       "\n",
       "                                     Unnamed: 7  \\\n",
       "0  Star Wars: Episode V The Empire Strikes Back   \n",
       "1  Star Wars: Episode V The Empire Strikes Back   \n",
       "2                                           NaN   \n",
       "3                                           NaN   \n",
       "4  Star Wars: Episode V The Empire Strikes Back   \n",
       "5  Star Wars: Episode V The Empire Strikes Back   \n",
       "6  Star Wars: Episode V The Empire Strikes Back   \n",
       "7  Star Wars: Episode V The Empire Strikes Back   \n",
       "8  Star Wars: Episode V The Empire Strikes Back   \n",
       "9  Star Wars: Episode V The Empire Strikes Back   \n",
       "\n",
       "                                 Unnamed: 8  \\\n",
       "0  Star Wars: Episode VI Return of the Jedi   \n",
       "1  Star Wars: Episode VI Return of the Jedi   \n",
       "2                                       NaN   \n",
       "3                                       NaN   \n",
       "4  Star Wars: Episode VI Return of the Jedi   \n",
       "5  Star Wars: Episode VI Return of the Jedi   \n",
       "6  Star Wars: Episode VI Return of the Jedi   \n",
       "7  Star Wars: Episode VI Return of the Jedi   \n",
       "8  Star Wars: Episode VI Return of the Jedi   \n",
       "9  Star Wars: Episode VI Return of the Jedi   \n",
       "\n",
       "  Please rank the Star Wars films in order of preference with 1 being your favorite film in the franchise and 6 being your least favorite film.  \\\n",
       "0           Star Wars: Episode I  The Phantom Menace                                                                                              \n",
       "1                                                  3                                                                                              \n",
       "2                                                NaN                                                                                              \n",
       "3                                                  1                                                                                              \n",
       "4                                                  5                                                                                              \n",
       "5                                                  5                                                                                              \n",
       "6                                                  1                                                                                              \n",
       "7                                                  6                                                                                              \n",
       "8                                                  4                                                                                              \n",
       "9                                                  5                                                                                              \n",
       "\n",
       "            ...                    Unnamed: 28  \\\n",
       "0           ...                           Yoda   \n",
       "1           ...                 Very favorably   \n",
       "2           ...                            NaN   \n",
       "3           ...               Unfamiliar (N/A)   \n",
       "4           ...                 Very favorably   \n",
       "5           ...             Somewhat favorably   \n",
       "6           ...                 Very favorably   \n",
       "7           ...                 Very favorably   \n",
       "8           ...                 Very favorably   \n",
       "9           ...             Somewhat favorably   \n",
       "\n",
       "        Which character shot first?  \\\n",
       "0                          Response   \n",
       "1  I don't understand this question   \n",
       "2                               NaN   \n",
       "3  I don't understand this question   \n",
       "4  I don't understand this question   \n",
       "5                            Greedo   \n",
       "6                               Han   \n",
       "7                               Han   \n",
       "8                               Han   \n",
       "9                               Han   \n",
       "\n",
       "  Are you familiar with the Expanded Universe?  \\\n",
       "0                                     Response   \n",
       "1                                          Yes   \n",
       "2                                          NaN   \n",
       "3                                           No   \n",
       "4                                           No   \n",
       "5                                          Yes   \n",
       "6                                          Yes   \n",
       "7                                          Yes   \n",
       "8                                           No   \n",
       "9                                           No   \n",
       "\n",
       "  Do you consider yourself to be a fan of the Expanded Universe?ÂÃ¦  \\\n",
       "0                                           Response                   \n",
       "1                                                 No                   \n",
       "2                                                NaN                   \n",
       "3                                                NaN                   \n",
       "4                                                NaN                   \n",
       "5                                                 No                   \n",
       "6                                                 No                   \n",
       "7                                                 No                   \n",
       "8                                                NaN                   \n",
       "9                                                NaN                   \n",
       "\n",
       "  Do you consider yourself to be a fan of the Star Trek franchise?    Gender  \\\n",
       "0                                           Response                Response   \n",
       "1                                                 No                    Male   \n",
       "2                                                Yes                    Male   \n",
       "3                                                 No                    Male   \n",
       "4                                                Yes                    Male   \n",
       "5                                                 No                    Male   \n",
       "6                                                Yes                    Male   \n",
       "7                                                 No                    Male   \n",
       "8                                                Yes                    Male   \n",
       "9                                                 No                    Male   \n",
       "\n",
       "        Age     Household Income                         Education  \\\n",
       "0  Response             Response                          Response   \n",
       "1     18-29                  NaN                High school degree   \n",
       "2     18-29         $0 - $24,999                   Bachelor degree   \n",
       "3     18-29         $0 - $24,999                High school degree   \n",
       "4     18-29  $100,000 - $149,999  Some college or Associate degree   \n",
       "5     18-29  $100,000 - $149,999  Some college or Associate degree   \n",
       "6     18-29    $25,000 - $49,999                   Bachelor degree   \n",
       "7     18-29                  NaN                High school degree   \n",
       "8     18-29                  NaN                High school degree   \n",
       "9     18-29         $0 - $24,999  Some college or Associate degree   \n",
       "\n",
       "  Location (Census Region)  \n",
       "0                 Response  \n",
       "1           South Atlantic  \n",
       "2       West South Central  \n",
       "3       West North Central  \n",
       "4       West North Central  \n",
       "5       West North Central  \n",
       "6          Middle Atlantic  \n",
       "7       East North Central  \n",
       "8           South Atlantic  \n",
       "9           South Atlantic  \n",
       "\n",
       "[10 rows x 38 columns]"
      ]
     },
     "execution_count": 2,
     "metadata": {},
     "output_type": "execute_result"
    }
   ],
   "source": [
    "star_wars.head(10)"
   ]
  },
  {
   "cell_type": "code",
   "execution_count": 3,
   "metadata": {},
   "outputs": [
    {
     "name": "stdout",
     "output_type": "stream",
     "text": [
      "RespondentID                                                                                                                                                                              NaN\n",
      "Have you seen any of the 6 films in the Star Wars franchise?                                                                                                                         Response\n",
      "Do you consider yourself to be a fan of the Star Wars film franchise?                                                                                                                Response\n",
      "Which of the following Star Wars films have you seen? Please select all that apply.                                                                  Star Wars: Episode I  The Phantom Menace\n",
      "Unnamed: 4                                                                                                                                        Star Wars: Episode II  Attack of the Clones\n",
      "Unnamed: 5                                                                                                                                        Star Wars: Episode III  Revenge of the Sith\n",
      "Unnamed: 6                                                                                                                                                  Star Wars: Episode IV  A New Hope\n",
      "Unnamed: 7                                                                                                                                       Star Wars: Episode V The Empire Strikes Back\n",
      "Unnamed: 8                                                                                                                                           Star Wars: Episode VI Return of the Jedi\n",
      "Please rank the Star Wars films in order of preference with 1 being your favorite film in the franchise and 6 being your least favorite film.        Star Wars: Episode I  The Phantom Menace\n",
      "Unnamed: 10                                                                                                                                       Star Wars: Episode II  Attack of the Clones\n",
      "Unnamed: 11                                                                                                                                       Star Wars: Episode III  Revenge of the Sith\n",
      "Unnamed: 12                                                                                                                                                 Star Wars: Episode IV  A New Hope\n",
      "Unnamed: 13                                                                                                                                      Star Wars: Episode V The Empire Strikes Back\n",
      "Unnamed: 14                                                                                                                                          Star Wars: Episode VI Return of the Jedi\n",
      "Please state whether you view the following characters favorably, unfavorably, or are unfamiliar with him/her.                                                                       Han Solo\n",
      "Unnamed: 16                                                                                                                                                                    Luke Skywalker\n",
      "Unnamed: 17                                                                                                                                                              Princess Leia Organa\n",
      "Unnamed: 18                                                                                                                                                                  Anakin Skywalker\n",
      "Unnamed: 19                                                                                                                                                                    Obi Wan Kenobi\n",
      "Unnamed: 20                                                                                                                                                                 Emperor Palpatine\n",
      "Unnamed: 21                                                                                                                                                                       Darth Vader\n",
      "Unnamed: 22                                                                                                                                                                  Lando Calrissian\n",
      "Unnamed: 23                                                                                                                                                                         Boba Fett\n",
      "Unnamed: 24                                                                                                                                                                             C-3P0\n",
      "Unnamed: 25                                                                                                                                                                             R2 D2\n",
      "Unnamed: 26                                                                                                                                                                     Jar Jar Binks\n",
      "Unnamed: 27                                                                                                                                                                     Padme Amidala\n",
      "Unnamed: 28                                                                                                                                                                              Yoda\n",
      "Which character shot first?                                                                                                                                                          Response\n",
      "Are you familiar with the Expanded Universe?                                                                                                                                         Response\n",
      "Do you consider yourself to be a fan of the Expanded Universe?ÂÃ¦                                                                                                                   Response\n",
      "Do you consider yourself to be a fan of the Star Trek franchise?                                                                                                                     Response\n",
      "Gender                                                                                                                                                                               Response\n",
      "Age                                                                                                                                                                                  Response\n",
      "Household Income                                                                                                                                                                     Response\n",
      "Education                                                                                                                                                                            Response\n",
      "Location (Census Region)                                                                                                                                                             Response\n",
      "Name: 0, dtype: object\n"
     ]
    }
   ],
   "source": [
    "#Separating row 0 which is additional info for the column names and type of responses:\n",
    "headings = star_wars.iloc[0]\n",
    "star_wars = star_wars[1:]\n",
    "print (headings)"
   ]
  },
  {
   "cell_type": "code",
   "execution_count": 4,
   "metadata": {
    "scrolled": false
   },
   "outputs": [
    {
     "data": {
      "text/plain": [
       "Index(['RespondentID',\n",
       "       'Have you seen any of the 6 films in the Star Wars franchise?',\n",
       "       'Do you consider yourself to be a fan of the Star Wars film franchise?',\n",
       "       'Which of the following Star Wars films have you seen? Please select all that apply.',\n",
       "       'Unnamed: 4', 'Unnamed: 5', 'Unnamed: 6', 'Unnamed: 7', 'Unnamed: 8',\n",
       "       'Please rank the Star Wars films in order of preference with 1 being your favorite film in the franchise and 6 being your least favorite film.',\n",
       "       'Unnamed: 10', 'Unnamed: 11', 'Unnamed: 12', 'Unnamed: 13',\n",
       "       'Unnamed: 14',\n",
       "       'Please state whether you view the following characters favorably, unfavorably, or are unfamiliar with him/her.',\n",
       "       'Unnamed: 16', 'Unnamed: 17', 'Unnamed: 18', 'Unnamed: 19',\n",
       "       'Unnamed: 20', 'Unnamed: 21', 'Unnamed: 22', 'Unnamed: 23',\n",
       "       'Unnamed: 24', 'Unnamed: 25', 'Unnamed: 26', 'Unnamed: 27',\n",
       "       'Unnamed: 28', 'Which character shot first?',\n",
       "       'Are you familiar with the Expanded Universe?',\n",
       "       'Do you consider yourself to be a fan of the Expanded Universe?ÂÃ¦',\n",
       "       'Do you consider yourself to be a fan of the Star Trek franchise?',\n",
       "       'Gender', 'Age', 'Household Income', 'Education',\n",
       "       'Location (Census Region)'],\n",
       "      dtype='object')"
      ]
     },
     "execution_count": 4,
     "metadata": {},
     "output_type": "execute_result"
    }
   ],
   "source": [
    "star_wars.columns"
   ]
  },
  {
   "cell_type": "markdown",
   "metadata": {},
   "source": [
    "## Removing NaN Values from 'RespondentID'"
   ]
  },
  {
   "cell_type": "code",
   "execution_count": 5,
   "metadata": {},
   "outputs": [],
   "source": [
    "star_wars['RespondentID'] = star_wars['RespondentID'].notnull()"
   ]
  },
  {
   "cell_type": "code",
   "execution_count": 6,
   "metadata": {
    "scrolled": true
   },
   "outputs": [
    {
     "data": {
      "text/plain": [
       "Index(['Do you consider yourself to be a fan of the Star Wars film franchise?',\n",
       "       'Which of the following Star Wars films have you seen? Please select all that apply.',\n",
       "       'Unnamed: 4', 'Unnamed: 5', 'Unnamed: 6', 'Unnamed: 7', 'Unnamed: 8',\n",
       "       'Please rank the Star Wars films in order of preference with 1 being your favorite film in the franchise and 6 being your least favorite film.',\n",
       "       'Unnamed: 10', 'Unnamed: 11', 'Unnamed: 12', 'Unnamed: 13',\n",
       "       'Unnamed: 14',\n",
       "       'Please state whether you view the following characters favorably, unfavorably, or are unfamiliar with him/her.',\n",
       "       'Unnamed: 16', 'Unnamed: 17', 'Unnamed: 18', 'Unnamed: 19',\n",
       "       'Unnamed: 20', 'Unnamed: 21', 'Unnamed: 22', 'Unnamed: 23',\n",
       "       'Unnamed: 24', 'Unnamed: 25', 'Unnamed: 26', 'Unnamed: 27',\n",
       "       'Unnamed: 28', 'Which character shot first?',\n",
       "       'Are you familiar with the Expanded Universe?',\n",
       "       'Do you consider yourself to be a fan of the Expanded Universe?ÂÃ¦',\n",
       "       'Do you consider yourself to be a fan of the Star Trek franchise?',\n",
       "       'Gender', 'Age', 'Household Income', 'Education',\n",
       "       'Location (Census Region)'],\n",
       "      dtype='object')"
      ]
     },
     "execution_count": 6,
     "metadata": {},
     "output_type": "execute_result"
    }
   ],
   "source": [
    "cols_missing_values = star_wars.columns[star_wars.isnull().sum() > 0]\n",
    "cols_missing_values"
   ]
  },
  {
   "cell_type": "markdown",
   "metadata": {
    "collapsed": true
   },
   "source": [
    "## Converting \"Yes\" and \"No\" columns to \"True\" and \"False\" (boolean) values"
   ]
  },
  {
   "cell_type": "code",
   "execution_count": 7,
   "metadata": {
    "scrolled": true
   },
   "outputs": [
    {
     "name": "stdout",
     "output_type": "stream",
     "text": [
      "Have you seen any of the 6 films in the Star Wars franchise?\n",
      "Yes    936\n",
      "No     250\n",
      "Name: Have you seen any of the 6 films in the Star Wars franchise?, dtype: int64\n",
      "\n",
      "\n",
      "Do you consider yourself to be a fan of the Star Wars film franchise?\n",
      "Yes    552\n",
      "NaN    350\n",
      "No     284\n",
      "Name: Do you consider yourself to be a fan of the Star Wars film franchise?, dtype: int64\n",
      "\n",
      "\n",
      "Are you familiar with the Expanded Universe?\n",
      "No     615\n",
      "NaN    358\n",
      "Yes    213\n",
      "Name: Are you familiar with the Expanded Universe?, dtype: int64\n",
      "\n",
      "\n",
      "Do you consider yourself to be a fan of the Expanded Universe?ÂÃ¦\n",
      "NaN    973\n",
      "No     114\n",
      "Yes     99\n",
      "Name: Do you consider yourself to be a fan of the Expanded Universe?ÂÃ¦, dtype: int64\n",
      "\n",
      "\n",
      "Do you consider yourself to be a fan of the Star Trek franchise?\n",
      "No     641\n",
      "Yes    427\n",
      "NaN    118\n",
      "Name: Do you consider yourself to be a fan of the Star Trek franchise?, dtype: int64\n",
      "\n",
      "\n"
     ]
    }
   ],
   "source": [
    "yes_no_cols = [1,2,30,31,32]\n",
    "\n",
    "for i in yes_no_cols:\n",
    "    print (star_wars.columns[i])\n",
    "    print (star_wars[star_wars.columns[i]].value_counts(dropna=False))\n",
    "    print('\\n')"
   ]
  },
  {
   "cell_type": "code",
   "execution_count": 8,
   "metadata": {
    "collapsed": true
   },
   "outputs": [],
   "source": [
    "#renaming a column with strange characters\n",
    "star_wars.rename(columns={'Do you consider yourself to be a fan of the Expanded Universe?ÂÃ¦':'Do you consider yourself to be a fan of the Expanded Universe?'}, inplace=True)"
   ]
  },
  {
   "cell_type": "code",
   "execution_count": 9,
   "metadata": {
    "scrolled": true
   },
   "outputs": [
    {
     "name": "stdout",
     "output_type": "stream",
     "text": [
      "True     936\n",
      "False    250\n",
      "Name: Have you seen any of the 6 films in the Star Wars franchise?, dtype: int64\n",
      "\n",
      "\n",
      "True     552\n",
      "NaN      350\n",
      "False    284\n",
      "Name: Do you consider yourself to be a fan of the Star Wars film franchise?, dtype: int64\n",
      "\n",
      "\n",
      "False    615\n",
      "NaN      358\n",
      "True     213\n",
      "Name: Are you familiar with the Expanded Universe?, dtype: int64\n",
      "\n",
      "\n",
      "NaN      973\n",
      "False    114\n",
      "True      99\n",
      "Name: Do you consider yourself to be a fan of the Expanded Universe?, dtype: int64\n",
      "\n",
      "\n",
      "False    641\n",
      "True     427\n",
      "NaN      118\n",
      "Name: Do you consider yourself to be a fan of the Star Trek franchise?, dtype: int64\n",
      "\n",
      "\n"
     ]
    }
   ],
   "source": [
    "yes_no = {\"Yes\": True,\n",
    "          \"No\": False}\n",
    "for i in yes_no_cols:\n",
    "    star_wars[star_wars.columns[i]] = star_wars[star_wars.columns[i]].map(yes_no)\n",
    "    print (star_wars[star_wars.columns[i]].value_counts(dropna=False))\n",
    "    print('\\n')"
   ]
  },
  {
   "cell_type": "markdown",
   "metadata": {},
   "source": [
    "## Converting Checkbox Reponses to \"True\" and \"False\""
   ]
  },
  {
   "cell_type": "code",
   "execution_count": 10,
   "metadata": {},
   "outputs": [
    {
     "name": "stdout",
     "output_type": "stream",
     "text": [
      "Which of the following Star Wars films have you seen? Please select all that apply.\n",
      "Star Wars: Episode I  The Phantom Menace    673\n",
      "NaN                                         513\n",
      "Name: Which of the following Star Wars films have you seen? Please select all that apply., dtype: int64\n",
      "\n",
      "\n",
      "Unnamed: 4\n",
      "NaN                                            615\n",
      "Star Wars: Episode II  Attack of the Clones    571\n",
      "Name: Unnamed: 4, dtype: int64\n",
      "\n",
      "\n",
      "Unnamed: 5\n",
      "NaN                                            636\n",
      "Star Wars: Episode III  Revenge of the Sith    550\n",
      "Name: Unnamed: 5, dtype: int64\n",
      "\n",
      "\n",
      "Unnamed: 6\n",
      "Star Wars: Episode IV  A New Hope    607\n",
      "NaN                                  579\n",
      "Name: Unnamed: 6, dtype: int64\n",
      "\n",
      "\n",
      "Unnamed: 7\n",
      "Star Wars: Episode V The Empire Strikes Back    758\n",
      "NaN                                             428\n",
      "Name: Unnamed: 7, dtype: int64\n",
      "\n",
      "\n",
      "Unnamed: 8\n",
      "Star Wars: Episode VI Return of the Jedi    738\n",
      "NaN                                         448\n",
      "Name: Unnamed: 8, dtype: int64\n",
      "\n",
      "\n"
     ]
    }
   ],
   "source": [
    "import numpy as np\n",
    "\n",
    "checkbox_cols = [3,4,5,6,7,8]\n",
    "\n",
    "for i in checkbox_cols:\n",
    "    print (star_wars.columns[i])\n",
    "    print (star_wars[star_wars.columns[i]].value_counts(dropna=False))\n",
    "    print('\\n')"
   ]
  },
  {
   "cell_type": "code",
   "execution_count": 11,
   "metadata": {},
   "outputs": [
    {
     "name": "stdout",
     "output_type": "stream",
     "text": [
      "True     673\n",
      "False    513\n",
      "Name: Which of the following Star Wars films have you seen? Please select all that apply., dtype: int64\n",
      "\n",
      "\n",
      "False    615\n",
      "True     571\n",
      "Name: Unnamed: 4, dtype: int64\n",
      "\n",
      "\n",
      "False    636\n",
      "True     550\n",
      "Name: Unnamed: 5, dtype: int64\n",
      "\n",
      "\n",
      "True     607\n",
      "False    579\n",
      "Name: Unnamed: 6, dtype: int64\n",
      "\n",
      "\n",
      "True     758\n",
      "False    428\n",
      "Name: Unnamed: 7, dtype: int64\n",
      "\n",
      "\n",
      "True     738\n",
      "False    448\n",
      "Name: Unnamed: 8, dtype: int64\n",
      "\n",
      "\n"
     ]
    }
   ],
   "source": [
    "\n",
    "seen_movie = {\n",
    "    'Star Wars: Episode I  The Phantom Menace': True,\n",
    "    'Star Wars: Episode II  Attack of the Clones': True,\n",
    "    'Star Wars: Episode III  Revenge of the Sith': True,\n",
    "    'Star Wars: Episode IV  A New Hope': True,\n",
    "    'Star Wars: Episode V The Empire Strikes Back': True,\n",
    "    'Star Wars: Episode VI Return of the Jedi': True,\n",
    "    np.NaN: False\n",
    "}\n",
    "\n",
    "for i in checkbox_cols:\n",
    "    star_wars[star_wars.columns[i]] = star_wars[star_wars.columns[i]].map(seen_movie)\n",
    "    print(star_wars[star_wars.columns[i]].value_counts(dropna=False))\n",
    "    print('\\n')\n",
    "    "
   ]
  },
  {
   "cell_type": "markdown",
   "metadata": {
    "collapsed": true
   },
   "source": [
    "## Renaming the above columns for ease of use"
   ]
  },
  {
   "cell_type": "markdown",
   "metadata": {},
   "source": [
    "The columns for this question are:</b>\n",
    "\n",
    "\"*Which of the following Star Wars films have you seen? Please select all that apply.* - Whether or not the respondent saw **'Star Wars: Episode I The Phantom Menace'.**\"\n",
    "\n",
    "\"*Unnamed: 4* - Whether or not the respondent saw **'Star Wars: Episode II Attack of the Clones'.**\"\n",
    "\n",
    "\"*Unnamed: 5* - Whether or not the respondent saw **'Star Wars: Episode III Revenge of the Sith'.**\"\n",
    "\n",
    "\"*Unnamed: 6* - Whether or not the respondent saw **'Star Wars: Episode IV A New Hope'.**\"\n",
    "\n",
    "\"*Unnamed: 7* - Whether or not the respondent saw **'Star Wars: Episode V The Empire Strikes Back'.**\"\n",
    "\n",
    "\"*Unnamed: 8* - Whether or not the respondent saw **'Star Wars: Episode VI Return of the Jedi'.**\"\n"
   ]
  },
  {
   "cell_type": "code",
   "execution_count": 12,
   "metadata": {},
   "outputs": [
    {
     "name": "stdout",
     "output_type": "stream",
     "text": [
      "Index(['RespondentID',\n",
      "       'Have you seen any of the 6 films in the Star Wars franchise?',\n",
      "       'Do you consider yourself to be a fan of the Star Wars film franchise?',\n",
      "       'seen_ep1', 'seen_ep2', 'seen_ep3', 'seen_ep4', 'seen_ep5', 'seen_ep6',\n",
      "       'Please rank the Star Wars films in order of preference with 1 being your favorite film in the franchise and 6 being your least favorite film.',\n",
      "       'Unnamed: 10', 'Unnamed: 11', 'Unnamed: 12', 'Unnamed: 13',\n",
      "       'Unnamed: 14',\n",
      "       'Please state whether you view the following characters favorably, unfavorably, or are unfamiliar with him/her.',\n",
      "       'Unnamed: 16', 'Unnamed: 17', 'Unnamed: 18', 'Unnamed: 19',\n",
      "       'Unnamed: 20', 'Unnamed: 21', 'Unnamed: 22', 'Unnamed: 23',\n",
      "       'Unnamed: 24', 'Unnamed: 25', 'Unnamed: 26', 'Unnamed: 27',\n",
      "       'Unnamed: 28', 'Which character shot first?',\n",
      "       'Are you familiar with the Expanded Universe?',\n",
      "       'Do you consider yourself to be a fan of the Expanded Universe?',\n",
      "       'Do you consider yourself to be a fan of the Star Trek franchise?',\n",
      "       'Gender', 'Age', 'Household Income', 'Education',\n",
      "       'Location (Census Region)'],\n",
      "      dtype='object')\n"
     ]
    }
   ],
   "source": [
    "movie_titles = {\n",
    "    'Which of the following Star Wars films have you seen? Please select all that apply.': 'seen_ep1',\n",
    "    'Unnamed: 4': 'seen_ep2',\n",
    "    'Unnamed: 5': 'seen_ep3',\n",
    "    'Unnamed: 6': 'seen_ep4',\n",
    "    'Unnamed: 7': 'seen_ep5',\n",
    "    'Unnamed: 8': 'seen_ep6',\n",
    "}\n",
    "\n",
    "star_wars.rename(mapper=movie_titles, axis=1, inplace=True)\n",
    "print (star_wars.columns)\n",
    "    "
   ]
  },
  {
   "cell_type": "markdown",
   "metadata": {
    "collapsed": true
   },
   "source": [
    "## Converting rating responses to numeric type"
   ]
  },
  {
   "cell_type": "code",
   "execution_count": 13,
   "metadata": {},
   "outputs": [],
   "source": [
    "star_wars[star_wars.columns[9:15]] = star_wars[star_wars.columns[9:15]].astype(float)\n"
   ]
  },
  {
   "cell_type": "markdown",
   "metadata": {},
   "source": [
    "## Renaming the above columns for ease of use"
   ]
  },
  {
   "cell_type": "code",
   "execution_count": 14,
   "metadata": {},
   "outputs": [
    {
     "name": "stdout",
     "output_type": "stream",
     "text": [
      "Index(['RespondentID',\n",
      "       'Have you seen any of the 6 films in the Star Wars franchise?',\n",
      "       'Do you consider yourself to be a fan of the Star Wars film franchise?',\n",
      "       'seen_ep1', 'seen_ep2', 'seen_ep3', 'seen_ep4', 'seen_ep5', 'seen_ep6',\n",
      "       'ranking_ep1', 'ranking_ep2', 'ranking_ep3', 'ranking_ep4',\n",
      "       'ranking_ep5', 'ranking_ep6',\n",
      "       'Please state whether you view the following characters favorably, unfavorably, or are unfamiliar with him/her.',\n",
      "       'Unnamed: 16', 'Unnamed: 17', 'Unnamed: 18', 'Unnamed: 19',\n",
      "       'Unnamed: 20', 'Unnamed: 21', 'Unnamed: 22', 'Unnamed: 23',\n",
      "       'Unnamed: 24', 'Unnamed: 25', 'Unnamed: 26', 'Unnamed: 27',\n",
      "       'Unnamed: 28', 'Which character shot first?',\n",
      "       'Are you familiar with the Expanded Universe?',\n",
      "       'Do you consider yourself to be a fan of the Expanded Universe?',\n",
      "       'Do you consider yourself to be a fan of the Star Trek franchise?',\n",
      "       'Gender', 'Age', 'Household Income', 'Education',\n",
      "       'Location (Census Region)'],\n",
      "      dtype='object')\n"
     ]
    }
   ],
   "source": [
    "movie_rankings = {\n",
    "    'Please rank the Star Wars films in order of preference with 1 being your favorite film in the franchise and 6 being your least favorite film.': 'ranking_ep1',\n",
    "    'Unnamed: 10': 'ranking_ep2',\n",
    "    'Unnamed: 11': 'ranking_ep3',\n",
    "    'Unnamed: 12': 'ranking_ep4',\n",
    "    'Unnamed: 13': 'ranking_ep5',\n",
    "    'Unnamed: 14': 'ranking_ep6',\n",
    "}\n",
    "\n",
    "star_wars.rename(mapper=movie_rankings, axis=1, inplace=True)\n",
    "print (star_wars.columns)"
   ]
  },
  {
   "cell_type": "markdown",
   "metadata": {},
   "source": [
    "## Finding the mean ranking for each Star Wars Movie"
   ]
  },
  {
   "cell_type": "code",
   "execution_count": 15,
   "metadata": {
    "scrolled": true
   },
   "outputs": [
    {
     "data": {
      "text/plain": [
       "ranking_ep1    3.732934\n",
       "ranking_ep2    4.087321\n",
       "ranking_ep3    4.341317\n",
       "ranking_ep4    3.272727\n",
       "ranking_ep5    2.513158\n",
       "ranking_ep6    3.047847\n",
       "dtype: float64"
      ]
     },
     "execution_count": 15,
     "metadata": {},
     "output_type": "execute_result"
    }
   ],
   "source": [
    "mean_rankings = star_wars[star_wars.columns[9:15]].mean(skipna=True)\n",
    "mean_rankings"
   ]
  },
  {
   "cell_type": "markdown",
   "metadata": {},
   "source": [
    "## Making a bar chart for each movie ranking"
   ]
  },
  {
   "cell_type": "code",
   "execution_count": 16,
   "metadata": {
    "collapsed": true
   },
   "outputs": [],
   "source": [
    "#importing the matplotlib and seaborn libraries\n",
    "import matplotlib.pyplot as plt\n",
    "%matplotlib inline\n",
    "import seaborn as sns\n"
   ]
  },
  {
   "cell_type": "code",
   "execution_count": 17,
   "metadata": {},
   "outputs": [
    {
     "data": {
      "image/png": "[encoded data removed]",
      "text/plain": [
       "<matplotlib.figure.Figure at 0x7f8f3ebc6cf8>"
      ]
     },
     "metadata": {},
     "output_type": "display_data"
    }
   ],
   "source": [
    "#Plotting all 'seen movie' data together\n",
    "N = 6\n",
    "\n",
    "# values of blue bars (height)\n",
    "mean_bars = (mean_rankings)\n",
    "\n",
    "# Position of bars on x-axis\n",
    "ind = np.arange(N)\n",
    "\n",
    "# Figure size\n",
    "plt.figure(figsize=(12,6))\n",
    "\n",
    "# Width of a bar \n",
    "width = 0.5       \n",
    "\n",
    "# Plotting\n",
    "plt.bar(ind, mean_bars, width, color='blue', label='Mean Rankings')\n",
    "\n",
    "plt.xlabel('Movies', size=14)\n",
    "plt.ylabel('Mean Rankings', size=14)\n",
    "plt.title('Mean Movie Rankings: All Respondants', size=22)\n",
    "\n",
    "# xticks()\n",
    "# First argument - A list of positions at which ticks should be placed\n",
    "# Second argument -  A list of labels to place at the given locations\n",
    "plt.xticks(ind + (width/2), ('seen_ep1', 'seen_ep2', 'seen_ep3', 'seen_ep4', 'seen_ep5', 'seen_ep6'))\n",
    "\n",
    "plt.show()"
   ]
  },
  {
   "cell_type": "markdown",
   "metadata": {
    "collapsed": true
   },
   "source": [
    "## Takeaways from the rankings\n",
    "\n",
    "Episode V: The Empire Strikes Back, is the highest ranked, followed by Episode VI and then Episode IV. Unsurprisingly, Episodes I-III are the lowest ranked. As a fan of the Star Wars series myself, and knowing the general reactions to the movies when they came out, I think the rankings from this survey make sense. Episodes I-III were highly anticipated but most Star Wars loyalists were disappointed and did not appreciate the deviations from the original movie styles and thought the movies to have too much politics and not enough humor. The original 3, Episodes IV-VI, have always been highly regarded amongst fans of the film franchise as the best in the series. Episode V introduces a lot of iconic characters and scenes, including Jabba the Hut and Boba Fett and the love triangle developing between 3 of the main characters, and that's what gives it a ranking boost over episode IV, which is more of an introduction into the main characters and storyline."
   ]
  },
  {
   "cell_type": "markdown",
   "metadata": {},
   "source": [
    "## Computing the sum of each 'seen' column"
   ]
  },
  {
   "cell_type": "code",
   "execution_count": 18,
   "metadata": {},
   "outputs": [
    {
     "data": {
      "text/plain": [
       "seen_ep1    673\n",
       "seen_ep2    571\n",
       "seen_ep3    550\n",
       "seen_ep4    607\n",
       "seen_ep5    758\n",
       "seen_ep6    738\n",
       "dtype: int64"
      ]
     },
     "execution_count": 18,
     "metadata": {},
     "output_type": "execute_result"
    }
   ],
   "source": [
    "seen_sum = star_wars[star_wars.columns[3:9]].sum()\n",
    "seen_sum\n"
   ]
  },
  {
   "cell_type": "markdown",
   "metadata": {},
   "source": [
    "## Making a bar chart of the sums of seen columns"
   ]
  },
  {
   "cell_type": "code",
   "execution_count": 19,
   "metadata": {},
   "outputs": [
    {
     "data": {
      "image/png": "[encoded data removed]",
      "text/plain": [
       "<matplotlib.figure.Figure at 0x7f8f3ebc6860>"
      ]
     },
     "metadata": {},
     "output_type": "display_data"
    }
   ],
   "source": [
    "#Plotting all 'seen movie' data together\n",
    "N = 6\n",
    "\n",
    "# values of orange bars (height)\n",
    "seen_bars = (seen_sum)\n",
    "\n",
    "# Position of bars on x-axis\n",
    "ind = np.arange(N)\n",
    "\n",
    "# Figure size\n",
    "plt.figure(figsize=(12,6))\n",
    "\n",
    "# Width of a bar \n",
    "width = 0.5       \n",
    "\n",
    "# Plotting\n",
    "plt.bar(ind, seen_bars, width, color='orange', label='Seen Movie')\n",
    "\n",
    "plt.xlabel('Movies', size=14)\n",
    "plt.ylabel('# of Respondants Seen Movie', size=14)\n",
    "plt.title('Seen Movie Sum: All Respondants', size=22)\n",
    "\n",
    "# xticks()\n",
    "# First argument - A list of positions at which ticks should be placed\n",
    "# Second argument -  A list of labels to place at the given locations\n",
    "plt.xticks(ind + (width/2), ('seen_ep1', 'seen_ep2', 'seen_ep3', 'seen_ep4', 'seen_ep5', 'seen_ep6'))\n",
    "\n",
    "plt.show()"
   ]
  },
  {
   "cell_type": "markdown",
   "metadata": {},
   "source": [
    "## Takeaways from the sumations of seen movies\n",
    "\n",
    "The sums of the 'seen_movie' columns are directly inverse from the rankings, and given that the lower the ranking the higher the rating of the movie, this makes sense. We can see that Episode V: The Empire Strikes Back, is the most watched movie in the series, and it is also the highest rated based on the mean rankings. We see that each sum of how many survey respondants watched each movie corresponds accordingly with how it's ranked. This could mean that ratings had a positive or negative effect on how many people watched each movie, or it could mean that the number of people that watched each movie has an effect on the ratings. I believe it makes more sense to say the former would be more influential than the latter, as the number of respondants shouldn't necessarily affect the rating, which is an average, as much as the ratings may influence the number of movie viewers, although both might play a role."
   ]
  },
  {
   "cell_type": "markdown",
   "metadata": {},
   "source": [
    "## Splitting the data by gender"
   ]
  },
  {
   "cell_type": "code",
   "execution_count": 20,
   "metadata": {
    "collapsed": true
   },
   "outputs": [],
   "source": [
    "sw_males = star_wars[star_wars[\"Gender\"] == \"Male\"]\n",
    "sw_females = star_wars[star_wars[\"Gender\"] == \"Female\"]\n"
   ]
  },
  {
   "cell_type": "markdown",
   "metadata": {},
   "source": [
    "## Star Wars movies seen and ranked split by gender"
   ]
  },
  {
   "cell_type": "code",
   "execution_count": 21,
   "metadata": {},
   "outputs": [
    {
     "name": "stdout",
     "output_type": "stream",
     "text": [
      "seen_ep1\n",
      "True     361\n",
      "False    136\n",
      "Name: seen_ep1, dtype: int64\n",
      "\n",
      "\n",
      "seen_ep2\n",
      "True     323\n",
      "False    174\n",
      "Name: seen_ep2, dtype: int64\n",
      "\n",
      "\n",
      "seen_ep3\n",
      "True     317\n",
      "False    180\n",
      "Name: seen_ep3, dtype: int64\n",
      "\n",
      "\n",
      "seen_ep4\n",
      "True     342\n",
      "False    155\n",
      "Name: seen_ep4, dtype: int64\n",
      "\n",
      "\n",
      "seen_ep5\n",
      "True     392\n",
      "False    105\n",
      "Name: seen_ep5, dtype: int64\n",
      "\n",
      "\n",
      "seen_ep6\n",
      "True     387\n",
      "False    110\n",
      "Name: seen_ep6, dtype: int64\n",
      "\n",
      "\n"
     ]
    }
   ],
   "source": [
    "#How many males have seen each movie\n",
    "checkbox_cols_m = [3,4,5,6,7,8]\n",
    "\n",
    "for i in checkbox_cols_m:\n",
    "    print (sw_males.columns[i])\n",
    "    print (sw_males[sw_males.columns[i]].value_counts(dropna=False))\n",
    "    print('\\n')\n"
   ]
  },
  {
   "cell_type": "code",
   "execution_count": 22,
   "metadata": {},
   "outputs": [
    {
     "name": "stdout",
     "output_type": "stream",
     "text": [
      "seen_ep1\n",
      "True     298\n",
      "False    251\n",
      "Name: seen_ep1, dtype: int64\n",
      "\n",
      "\n",
      "seen_ep2\n",
      "False    312\n",
      "True     237\n",
      "Name: seen_ep2, dtype: int64\n",
      "\n",
      "\n",
      "seen_ep3\n",
      "False    327\n",
      "True     222\n",
      "Name: seen_ep3, dtype: int64\n",
      "\n",
      "\n",
      "seen_ep4\n",
      "False    294\n",
      "True     255\n",
      "Name: seen_ep4, dtype: int64\n",
      "\n",
      "\n",
      "seen_ep5\n",
      "True     353\n",
      "False    196\n",
      "Name: seen_ep5, dtype: int64\n",
      "\n",
      "\n",
      "seen_ep6\n",
      "True     338\n",
      "False    211\n",
      "Name: seen_ep6, dtype: int64\n",
      "\n",
      "\n"
     ]
    }
   ],
   "source": [
    "#How many females have seen each movie\n",
    "checkbox_cols_f = [3,4,5,6,7,8]\n",
    "\n",
    "for i in checkbox_cols_f:\n",
    "    print (sw_females.columns[i])\n",
    "    print (sw_females[sw_females.columns[i]].value_counts(dropna=False))\n",
    "    print('\\n')\n"
   ]
  },
  {
   "cell_type": "code",
   "execution_count": 23,
   "metadata": {},
   "outputs": [
    {
     "name": "stdout",
     "output_type": "stream",
     "text": [
      "seen_ep1    361\n",
      "seen_ep2    323\n",
      "seen_ep3    317\n",
      "seen_ep4    342\n",
      "seen_ep5    392\n",
      "seen_ep6    387\n",
      "dtype: int64\n",
      "\n",
      "\n",
      "seen_ep1    298\n",
      "seen_ep2    237\n",
      "seen_ep3    222\n",
      "seen_ep4    255\n",
      "seen_ep5    353\n",
      "seen_ep6    338\n",
      "dtype: int64\n"
     ]
    }
   ],
   "source": [
    "seen_sum_m = sw_males[sw_males.columns[3:9]].sum()\n",
    "print (seen_sum_m)\n",
    "print ('\\n')\n",
    "\n",
    "seen_sum_f = sw_females[sw_females.columns[3:9]].sum()\n",
    "print (seen_sum_f)\n"
   ]
  },
  {
   "cell_type": "code",
   "execution_count": 24,
   "metadata": {},
   "outputs": [
    {
     "data": {
      "image/png": "[encoded data removed]",
      "text/plain": [
       "<matplotlib.figure.Figure at 0x7f8f3ca9b6a0>"
      ]
     },
     "metadata": {},
     "output_type": "display_data"
    }
   ],
   "source": [
    "#Plotting male and female seen movie data together\n",
    "N = 6\n",
    "\n",
    "# values of blue bars (height)\n",
    "seen_male = (seen_sum_m)\n",
    "# values of orange bars (height)\n",
    "seen_female = (seen_sum_f)\n",
    "\n",
    "# Position of bars on x-axis\n",
    "ind = np.arange(N)\n",
    "\n",
    "# Figure size\n",
    "plt.figure(figsize=(12,6))\n",
    "\n",
    "# Width of a bar \n",
    "width = 0.3       \n",
    "\n",
    "# Plotting\n",
    "plt.bar(ind, seen_male, width, color='blue', label='Males')\n",
    "plt.bar(ind + width, seen_female, width, color='orange', label='Females')\n",
    "\n",
    "plt.xlabel('Seen Movie Sum', size=14)\n",
    "plt.ylabel('# of Respondants Seen Movie', size=14)\n",
    "plt.title('Seen Movie Sum by Gender', size=22)\n",
    "\n",
    "# xticks()\n",
    "# First argument - A list of positions at which ticks should be placed\n",
    "# Second argument -  A list of labels to place at the given locations\n",
    "plt.xticks(ind + (width*2) / 2, ('seen_ep1', 'seen_ep2', 'seen_ep3', 'seen_ep4', 'seen_ep5', 'seen_ep6'))\n",
    "\n",
    "# Finding the best position for legends and putting it\n",
    "plt.legend(loc='best')\n",
    "plt.show()"
   ]
  },
  {
   "cell_type": "markdown",
   "metadata": {},
   "source": [
    "We can see there are generally more males who've seen each of the Star Wars films, but there is a narrower gap between male and female when it comes to Episode V followed by Episode VI."
   ]
  },
  {
   "cell_type": "markdown",
   "metadata": {},
   "source": [
    "## Charting mean ranking split by gender"
   ]
  },
  {
   "cell_type": "code",
   "execution_count": 25,
   "metadata": {},
   "outputs": [
    {
     "name": "stdout",
     "output_type": "stream",
     "text": [
      "ranking_ep1    4.037825\n",
      "ranking_ep2    4.224586\n",
      "ranking_ep3    4.274882\n",
      "ranking_ep4    2.997636\n",
      "ranking_ep5    2.458629\n",
      "ranking_ep6    3.002364\n",
      "dtype: float64\n",
      "\n",
      "\n",
      "ranking_ep1    3.429293\n",
      "ranking_ep2    3.954660\n",
      "ranking_ep3    4.418136\n",
      "ranking_ep4    3.544081\n",
      "ranking_ep5    2.569270\n",
      "ranking_ep6    3.078086\n",
      "dtype: float64\n"
     ]
    }
   ],
   "source": [
    "mean_rankings_m = sw_males[sw_males.columns[9:15]].mean(skipna=True)\n",
    "print (mean_rankings_m)\n",
    "print ('\\n')\n",
    "mean_rankings_f = sw_females[sw_females.columns[9:15]].mean(skipna=True)\n",
    "print (mean_rankings_f)\n"
   ]
  },
  {
   "cell_type": "code",
   "execution_count": 26,
   "metadata": {},
   "outputs": [
    {
     "data": {
      "image/png": "[encoded data removed]",
      "text/plain": [
       "<matplotlib.figure.Figure at 0x7f8f3ca3fc18>"
      ]
     },
     "metadata": {},
     "output_type": "display_data"
    }
   ],
   "source": [
    "#Plotting male and female movie ranking data together\n",
    "N = 6\n",
    "\n",
    "# values of blue bars (height)\n",
    "male_mean = (mean_rankings_m)\n",
    "# values of orange bars (height)\n",
    "female_mean = (mean_rankings_f)\n",
    "\n",
    "# Position of bars on x-axis\n",
    "ind = np.arange(N)\n",
    "\n",
    "# Figure size\n",
    "plt.figure(figsize=(12,6))\n",
    "\n",
    "# Width of a bar \n",
    "width = 0.3       \n",
    "\n",
    "# Plotting\n",
    "plt.bar(ind, male_mean, width, color='blue', label='Males')\n",
    "plt.bar(ind + width, female_mean, width, color='orange', label='Females')\n",
    "\n",
    "plt.xlabel('Movie Episode', size=14)\n",
    "plt.ylabel('Mean Movie Ranking', size=14)\n",
    "plt.title('Mean Movie Ranking by Gender', size=22)\n",
    "\n",
    "# xticks()\n",
    "# First argument - A list of positions at which ticks should be placed\n",
    "# Second argument -  A list of labels to place at the given locations\n",
    "plt.xticks(ind + (width*2) / 2, ('ranking_ep1', 'ranking_ep2', 'ranking_ep3', 'ranking_ep4', 'ranking_ep5', 'ranking_ep6'))\n",
    "\n",
    "# Finding the best position for legends and putting it\n",
    "plt.legend(loc='best')\n",
    "plt.show()"
   ]
  },
  {
   "cell_type": "markdown",
   "metadata": {},
   "source": [
    "## Observations\n",
    "While most of the rankings follow the same ranking order, we can see there is a difference in how males and females rated the movies in this survey. Both rate Episode V: The Empire Strikes Back as the best and the ranking is close when it comes to the split in gender. Episode VI is also close in ranking but while males equally ranked Episodes IV and VI, females ranked Episode VI higher than Episode IV. Females also rated Episodes I and II higher than males did, but liked Episode III even less than the male respondants. Again, we see that the seen columns directly correspond to the rankings, with the highest rated being the most seen and vice-versa.<br/>\n",
    "<br/>\n",
    "**Males movie ranking order:\n",
    "Episode V<br/>\n",
    "Episode IV & Episode VI<br/>\n",
    "Episode I<br/>\n",
    "Episode II<br/>\n",
    "Episode III.<br/>\n",
    "<br/>\n",
    "Females movie ranking order: <br/>\n",
    "Episode V<br/>\n",
    "Episode VI<br/>\n",
    "Episode I<br/>\n",
    "Episode IV<br/>\n",
    "Episode II<br/>\n",
    "Episode III.**<br/>\n",
    "<br/>"
   ]
  },
  {
   "cell_type": "markdown",
   "metadata": {},
   "source": [
    "## Filtering the data by fans of the franchise vs. non-fans"
   ]
  },
  {
   "cell_type": "code",
   "execution_count": 27,
   "metadata": {},
   "outputs": [
    {
     "data": {
      "text/plain": [
       "True     552\n",
       "NaN      350\n",
       "False    284\n",
       "Name: Do you consider yourself to be a fan of the Star Wars film franchise?, dtype: int64"
      ]
     },
     "execution_count": 27,
     "metadata": {},
     "output_type": "execute_result"
    }
   ],
   "source": [
    "# How many respondants are fans and how many are not?\n",
    "star_wars['Do you consider yourself to be a fan of the Star Wars film franchise?'].value_counts(dropna=False)\n"
   ]
  },
  {
   "cell_type": "code",
   "execution_count": 28,
   "metadata": {},
   "outputs": [
    {
     "name": "stdout",
     "output_type": "stream",
     "text": [
      "   RespondentID  Have you seen any of the 6 films in the Star Wars franchise?  \\\n",
      "1          True                                               True              \n",
      "4          True                                               True              \n",
      "5          True                                               True              \n",
      "6          True                                               True              \n",
      "7          True                                               True              \n",
      "\n",
      "  Do you consider yourself to be a fan of the Star Wars film franchise?  \\\n",
      "1                                               True                      \n",
      "4                                               True                      \n",
      "5                                               True                      \n",
      "6                                               True                      \n",
      "7                                               True                      \n",
      "\n",
      "   seen_ep1  seen_ep2  seen_ep3  seen_ep4  seen_ep5  seen_ep6  ranking_ep1  \\\n",
      "1      True      True      True      True      True      True          3.0   \n",
      "4      True      True      True      True      True      True          5.0   \n",
      "5      True      True      True      True      True      True          5.0   \n",
      "6      True      True      True      True      True      True          1.0   \n",
      "7      True      True      True      True      True      True          6.0   \n",
      "\n",
      "            ...                    Unnamed: 28  \\\n",
      "1           ...                 Very favorably   \n",
      "4           ...                 Very favorably   \n",
      "5           ...             Somewhat favorably   \n",
      "6           ...                 Very favorably   \n",
      "7           ...                 Very favorably   \n",
      "\n",
      "        Which character shot first?  \\\n",
      "1  I don't understand this question   \n",
      "4  I don't understand this question   \n",
      "5                            Greedo   \n",
      "6                               Han   \n",
      "7                               Han   \n",
      "\n",
      "   Are you familiar with the Expanded Universe?  \\\n",
      "1                                          True   \n",
      "4                                         False   \n",
      "5                                          True   \n",
      "6                                          True   \n",
      "7                                          True   \n",
      "\n",
      "   Do you consider yourself to be a fan of the Expanded Universe?  \\\n",
      "1                                              False                \n",
      "4                                                NaN                \n",
      "5                                              False                \n",
      "6                                              False                \n",
      "7                                              False                \n",
      "\n",
      "   Do you consider yourself to be a fan of the Star Trek franchise? Gender  \\\n",
      "1                                              False                  Male   \n",
      "4                                               True                  Male   \n",
      "5                                              False                  Male   \n",
      "6                                               True                  Male   \n",
      "7                                              False                  Male   \n",
      "\n",
      "     Age     Household Income                         Education  \\\n",
      "1  18-29                  NaN                High school degree   \n",
      "4  18-29  $100,000 - $149,999  Some college or Associate degree   \n",
      "5  18-29  $100,000 - $149,999  Some college or Associate degree   \n",
      "6  18-29    $25,000 - $49,999                   Bachelor degree   \n",
      "7  18-29                  NaN                High school degree   \n",
      "\n",
      "  Location (Census Region)  \n",
      "1           South Atlantic  \n",
      "4       West North Central  \n",
      "5       West North Central  \n",
      "6          Middle Atlantic  \n",
      "7       East North Central  \n",
      "\n",
      "[5 rows x 38 columns]\n",
      "\n",
      "\n",
      "    RespondentID  \\\n",
      "3           True   \n",
      "10          True   \n",
      "13          True   \n",
      "22          True   \n",
      "31          True   \n",
      "\n",
      "    Have you seen any of the 6 films in the Star Wars franchise?  \\\n",
      "3                                                True              \n",
      "10                                               True              \n",
      "13                                               True              \n",
      "22                                               True              \n",
      "31                                               True              \n",
      "\n",
      "   Do you consider yourself to be a fan of the Star Wars film franchise?  \\\n",
      "3                                               False                      \n",
      "10                                              False                      \n",
      "13                                              False                      \n",
      "22                                              False                      \n",
      "31                                              False                      \n",
      "\n",
      "    seen_ep1  seen_ep2  seen_ep3  seen_ep4  seen_ep5  seen_ep6  ranking_ep1  \\\n",
      "3       True      True      True     False     False     False          1.0   \n",
      "10     False      True     False     False     False     False          1.0   \n",
      "13      True      True      True      True      True      True          3.0   \n",
      "22      True      True      True      True      True     False          3.0   \n",
      "31      True      True      True      True      True      True          4.0   \n",
      "\n",
      "             ...                                             Unnamed: 28  \\\n",
      "3            ...                                        Unfamiliar (N/A)   \n",
      "10           ...                                          Very favorably   \n",
      "13           ...                                          Very favorably   \n",
      "22           ...             Neither favorably nor unfavorably (neutral)   \n",
      "31           ...                                      Somewhat favorably   \n",
      "\n",
      "         Which character shot first?  \\\n",
      "3   I don't understand this question   \n",
      "10  I don't understand this question   \n",
      "13                            Greedo   \n",
      "22  I don't understand this question   \n",
      "31  I don't understand this question   \n",
      "\n",
      "    Are you familiar with the Expanded Universe?  \\\n",
      "3                                          False   \n",
      "10                                         False   \n",
      "13                                         False   \n",
      "22                                         False   \n",
      "31                                         False   \n",
      "\n",
      "    Do you consider yourself to be a fan of the Expanded Universe?  \\\n",
      "3                                                 NaN                \n",
      "10                                                NaN                \n",
      "13                                                NaN                \n",
      "22                                                NaN                \n",
      "31                                                NaN                \n",
      "\n",
      "    Do you consider yourself to be a fan of the Star Trek franchise? Gender  \\\n",
      "3                                               False                  Male   \n",
      "10                                              False                  Male   \n",
      "13                                              False                  Male   \n",
      "22                                              False                  Male   \n",
      "31                                              False                  Male   \n",
      "\n",
      "      Age   Household Income                         Education  \\\n",
      "3   18-29       $0 - $24,999                High school degree   \n",
      "10  18-29  $25,000 - $49,999  Some college or Associate degree   \n",
      "13  18-29  $25,000 - $49,999                   Bachelor degree   \n",
      "22  18-29                NaN                   Bachelor degree   \n",
      "31  30-44       $0 - $24,999                High school degree   \n",
      "\n",
      "   Location (Census Region)  \n",
      "3        West North Central  \n",
      "10                  Pacific  \n",
      "13           South Atlantic  \n",
      "22                  Pacific  \n",
      "31              New England  \n",
      "\n",
      "[5 rows x 38 columns]\n"
     ]
    }
   ],
   "source": [
    "sw_fans = star_wars[star_wars['Do you consider yourself to be a fan of the Star Wars film franchise?'] == True]\n",
    "print (sw_fans.head())\n",
    "print ('\\n')\n",
    "sw_nonfans = star_wars[star_wars['Do you consider yourself to be a fan of the Star Wars film franchise?'] == False]\n",
    "print (sw_nonfans.head())\n"
   ]
  },
  {
   "cell_type": "markdown",
   "metadata": {
    "collapsed": true
   },
   "source": [
    "## Star Wars Fans seen and ranked Star Wars movies"
   ]
  },
  {
   "cell_type": "code",
   "execution_count": 29,
   "metadata": {},
   "outputs": [
    {
     "name": "stdout",
     "output_type": "stream",
     "text": [
      "seen_ep1\n",
      "True     500\n",
      "False     52\n",
      "Name: seen_ep1, dtype: int64\n",
      "\n",
      "\n",
      "seen_ep2\n",
      "True     463\n",
      "False     89\n",
      "Name: seen_ep2, dtype: int64\n",
      "\n",
      "\n",
      "seen_ep3\n",
      "True     450\n",
      "False    102\n",
      "Name: seen_ep3, dtype: int64\n",
      "\n",
      "\n",
      "seen_ep4\n",
      "True     483\n",
      "False     69\n",
      "Name: seen_ep4, dtype: int64\n",
      "\n",
      "\n",
      "seen_ep5\n",
      "True     538\n",
      "False     14\n",
      "Name: seen_ep5, dtype: int64\n",
      "\n",
      "\n",
      "seen_ep6\n",
      "True     537\n",
      "False     15\n",
      "Name: seen_ep6, dtype: int64\n",
      "\n",
      "\n"
     ]
    }
   ],
   "source": [
    "#How many fans have seen each movie\n",
    "checkbox_cols_fans = [3,4,5,6,7,8]\n",
    "\n",
    "for i in checkbox_cols_fans:\n",
    "    print (sw_fans.columns[i])\n",
    "    print (sw_fans[sw_fans.columns[i]].value_counts(dropna=False))\n",
    "    print('\\n')"
   ]
  },
  {
   "cell_type": "code",
   "execution_count": 30,
   "metadata": {},
   "outputs": [
    {
     "name": "stdout",
     "output_type": "stream",
     "text": [
      "seen_ep1\n",
      "True     173\n",
      "False    111\n",
      "Name: seen_ep1, dtype: int64\n",
      "\n",
      "\n",
      "seen_ep2\n",
      "False    176\n",
      "True     108\n",
      "Name: seen_ep2, dtype: int64\n",
      "\n",
      "\n",
      "seen_ep3\n",
      "False    184\n",
      "True     100\n",
      "Name: seen_ep3, dtype: int64\n",
      "\n",
      "\n",
      "seen_ep4\n",
      "False    160\n",
      "True     124\n",
      "Name: seen_ep4, dtype: int64\n",
      "\n",
      "\n",
      "seen_ep5\n",
      "True     220\n",
      "False     64\n",
      "Name: seen_ep5, dtype: int64\n",
      "\n",
      "\n",
      "seen_ep6\n",
      "True     201\n",
      "False     83\n",
      "Name: seen_ep6, dtype: int64\n",
      "\n",
      "\n"
     ]
    }
   ],
   "source": [
    "#How many non-fans have seen each movie\n",
    "checkbox_cols_nfans = [3,4,5,6,7,8]\n",
    "\n",
    "for i in checkbox_cols_nfans:\n",
    "    print (sw_nonfans.columns[i])\n",
    "    print (sw_nonfans[sw_nonfans.columns[i]].value_counts(dropna=False))\n",
    "    print('\\n')"
   ]
  },
  {
   "cell_type": "code",
   "execution_count": 31,
   "metadata": {},
   "outputs": [
    {
     "name": "stdout",
     "output_type": "stream",
     "text": [
      "seen_ep1    500\n",
      "seen_ep2    463\n",
      "seen_ep3    450\n",
      "seen_ep4    483\n",
      "seen_ep5    538\n",
      "seen_ep6    537\n",
      "dtype: int64\n",
      "\n",
      "\n",
      "seen_ep1    173\n",
      "seen_ep2    108\n",
      "seen_ep3    100\n",
      "seen_ep4    124\n",
      "seen_ep5    220\n",
      "seen_ep6    201\n",
      "dtype: int64\n"
     ]
    }
   ],
   "source": [
    "seen_sum_fans = sw_fans[sw_fans.columns[3:9]].sum()\n",
    "print (seen_sum_fans)\n",
    "print ('\\n')\n",
    "\n",
    "seen_sum_nfans = sw_nonfans[sw_nonfans.columns[3:9]].sum()\n",
    "print (seen_sum_nfans)\n"
   ]
  },
  {
   "cell_type": "code",
   "execution_count": 32,
   "metadata": {},
   "outputs": [
    {
     "data": {
      "image/png": "[encoded data removed]",
      "text/plain": [
       "<matplotlib.figure.Figure at 0x7f8f3ca97748>"
      ]
     },
     "metadata": {},
     "output_type": "display_data"
    }
   ],
   "source": [
    "#Plotting fans and non-fans seen movie data together\n",
    "N = 6\n",
    "\n",
    "# values of blue bars (height)\n",
    "seen_fans = (seen_sum_fans)\n",
    "# values of orange bars (height)\n",
    "seen_nonfans = (seen_sum_nfans)\n",
    "\n",
    "# Position of bars on x-axis\n",
    "ind = np.arange(N)\n",
    "\n",
    "# Figure size\n",
    "plt.figure(figsize=(12,6))\n",
    "\n",
    "# Width of a bar \n",
    "width = 0.3       \n",
    "\n",
    "# Plotting\n",
    "plt.bar(ind, seen_fans, width, color='blue', label='Fans')\n",
    "plt.bar(ind + width, seen_nonfans, width, color='orange', label='Non-fans')\n",
    "\n",
    "plt.xlabel('Seen Movie Sum', size=14)\n",
    "plt.ylabel('# of Respondants Seen Movie', size=14)\n",
    "plt.title('Seen Movie Sum by Fans vs. Non-fans', size=22)\n",
    "\n",
    "# xticks()\n",
    "# First argument - A list of positions at which ticks should be placed\n",
    "# Second argument -  A list of labels to place at the given locations\n",
    "plt.xticks(ind + (width*2) / 2, ('seen_ep1', 'seen_ep2', 'seen_ep3', 'seen_ep4', 'seen_ep5', 'seen_ep6'))\n",
    "\n",
    "# Finding the best position for legends and putting it\n",
    "plt.legend(loc='best')\n",
    "plt.show()"
   ]
  },
  {
   "cell_type": "markdown",
   "metadata": {},
   "source": [
    "There is a very obvious difference between fans and non-fans of the franchise when it comes to survey reponses. Fans more than double the amount of repondants who've seen the films vs. non-fans."
   ]
  },
  {
   "cell_type": "markdown",
   "metadata": {},
   "source": [
    "## Charting mean rankings of the movies by fans and non-fans"
   ]
  },
  {
   "cell_type": "code",
   "execution_count": 33,
   "metadata": {},
   "outputs": [
    {
     "name": "stdout",
     "output_type": "stream",
     "text": [
      "ranking_ep1    4.141304\n",
      "ranking_ep2    4.342391\n",
      "ranking_ep3    4.417423\n",
      "ranking_ep4    2.932971\n",
      "ranking_ep5    2.333333\n",
      "ranking_ep6    2.829710\n",
      "dtype: float64\n",
      "\n",
      "\n",
      "ranking_ep1    2.936396\n",
      "ranking_ep2    3.591549\n",
      "ranking_ep3    4.193662\n",
      "ranking_ep4    3.933099\n",
      "ranking_ep5    2.862676\n",
      "ranking_ep6    3.471831\n",
      "dtype: float64\n"
     ]
    }
   ],
   "source": [
    "mean_rankings_fans = sw_fans[sw_fans.columns[9:15]].mean(skipna=True)\n",
    "print (mean_rankings_fans)\n",
    "print ('\\n')\n",
    "mean_rankings_nfans = sw_nonfans[sw_nonfans.columns[9:15]].mean(skipna=True)\n",
    "print (mean_rankings_nfans)\n"
   ]
  },
  {
   "cell_type": "code",
   "execution_count": 34,
   "metadata": {},
   "outputs": [
    {
     "data": {
      "image/png": "[encoded data removed]",
      "text/plain": [
       "<matplotlib.figure.Figure at 0x7f8f3ebfb0f0>"
      ]
     },
     "metadata": {},
     "output_type": "display_data"
    }
   ],
   "source": [
    "#Plotting fans vs. nonfans movie ranking data together\n",
    "N = 6\n",
    "\n",
    "# values of blue bars (height)\n",
    "mean_fans = (mean_rankings_fans)\n",
    "# values of orange bars (height)\n",
    "mean_nonfans = (mean_rankings_nfans)\n",
    "\n",
    "# Position of bars on x-axis\n",
    "ind = np.arange(N)\n",
    "\n",
    "# Figure size\n",
    "plt.figure(figsize=(12,6))\n",
    "\n",
    "# Width of a bar \n",
    "width = 0.3       \n",
    "\n",
    "# Plotting\n",
    "plt.bar(ind, mean_fans, width, color='blue', label='Fans')\n",
    "plt.bar(ind + width, mean_nonfans, width, color='orange', label='Non-fans')\n",
    "\n",
    "plt.xlabel('Movie Episode', size=14)\n",
    "plt.ylabel('Mean Movie Ranking', size=14)\n",
    "plt.title('Mean Movie Ranking by Fans vs. Non-fans', size=22)\n",
    "\n",
    "# xticks()\n",
    "# First argument - A list of positions at which ticks should be placed\n",
    "# Second argument -  A list of labels to place at the given locations\n",
    "plt.xticks(ind + (width*2) / 2, ('ranking_ep1', 'ranking_ep2', 'ranking_ep3', 'ranking_ep4', 'ranking_ep5', 'ranking_ep6'))\n",
    "\n",
    "# Finding the best position for legends and putting it\n",
    "plt.legend(loc='best')\n",
    "plt.show()"
   ]
  },
  {
   "cell_type": "markdown",
   "metadata": {},
   "source": [
    "Again we see a big difference in the way fans and non-fans of the Star Wars films responded in the survey. Here we see that the ranking order for the films differs for the two subsets. The few constants have been that Episode V is consistantly ranked the best and Episode III consistantly ranked the worst.<br/>\n",
    "<br/>\n",
    "**Non-fans rank the films in the following order: <br/>\n",
    "Episode V<br/>\n",
    "Episode I<br/>\n",
    "Episode VI<br/>\n",
    "Episode II<br/>\n",
    "Episode IV<br/>\n",
    "Episode III.<br/>\n",
    "<br/>\n",
    "Fans rank the films in the following order: <br/>\n",
    "Episode V<br/>\n",
    "Episode VI<br/>\n",
    "Episode IV<br/>\n",
    "Episode I<br/>\n",
    "Episode II<br/>\n",
    "Episode III.**<br/>\n",
    "<br/>\n",
    "The fans of the franchise are clearly loyalists to the original 3 movies and did not like the deviations in Episodes I-III which were released much later in the year 2000s. Meanwhile, non-fans of the franchise who rated the movies tended to be more forgiving of the newer movies and did not like the first movie in the original series as much."
   ]
  },
  {
   "cell_type": "markdown",
   "metadata": {},
   "source": [
    "## Segmenting the data based on 'Which character shot first?'"
   ]
  },
  {
   "cell_type": "code",
   "execution_count": 35,
   "metadata": {
    "scrolled": true
   },
   "outputs": [
    {
     "name": "stdout",
     "output_type": "stream",
     "text": [
      "NaN                                 358\n",
      "Han                                 325\n",
      "I don't understand this question    306\n",
      "Greedo                              197\n",
      "Name: Which character shot first?, dtype: int64\n"
     ]
    }
   ],
   "source": [
    "print (star_wars['Which character shot first?'].value_counts(dropna=False))\n"
   ]
  },
  {
   "cell_type": "code",
   "execution_count": 36,
   "metadata": {
    "scrolled": true
   },
   "outputs": [
    {
     "name": "stdout",
     "output_type": "stream",
     "text": [
      "NaN      664\n",
      "True     325\n",
      "False    197\n",
      "Name: Which character shot first?, dtype: int64\n"
     ]
    }
   ],
   "source": [
    "character_map = {\n",
    "    \"Han\": True,\n",
    "    \"Greedo\": False,\n",
    "    \"I don't understand this question\": np.NaN\n",
    "}\n",
    "\n",
    "star_wars['Which character shot first?'] = star_wars['Which character shot first?'].map(character_map)\n",
    "print(star_wars['Which character shot first?'].value_counts(dropna=False))\n"
   ]
  },
  {
   "cell_type": "code",
   "execution_count": 37,
   "metadata": {},
   "outputs": [
    {
     "name": "stdout",
     "output_type": "stream",
     "text": [
      "    RespondentID  \\\n",
      "6           True   \n",
      "7           True   \n",
      "8           True   \n",
      "9           True   \n",
      "15          True   \n",
      "\n",
      "    Have you seen any of the 6 films in the Star Wars franchise?  \\\n",
      "6                                                True              \n",
      "7                                                True              \n",
      "8                                                True              \n",
      "9                                                True              \n",
      "15                                               True              \n",
      "\n",
      "   Do you consider yourself to be a fan of the Star Wars film franchise?  \\\n",
      "6                                                True                      \n",
      "7                                                True                      \n",
      "8                                                True                      \n",
      "9                                                True                      \n",
      "15                                               True                      \n",
      "\n",
      "    seen_ep1  seen_ep2  seen_ep3  seen_ep4  seen_ep5  seen_ep6  ranking_ep1  \\\n",
      "6       True      True      True      True      True      True          1.0   \n",
      "7       True      True      True      True      True      True          6.0   \n",
      "8       True      True      True      True      True      True          4.0   \n",
      "9       True      True      True      True      True      True          5.0   \n",
      "15      True      True      True      True      True      True          4.0   \n",
      "\n",
      "             ...                    Unnamed: 28  Which character shot first?  \\\n",
      "6            ...                 Very favorably                         True   \n",
      "7            ...                 Very favorably                         True   \n",
      "8            ...                 Very favorably                         True   \n",
      "9            ...             Somewhat favorably                         True   \n",
      "15           ...                 Very favorably                         True   \n",
      "\n",
      "    Are you familiar with the Expanded Universe?  \\\n",
      "6                                           True   \n",
      "7                                           True   \n",
      "8                                          False   \n",
      "9                                          False   \n",
      "15                                         False   \n",
      "\n",
      "    Do you consider yourself to be a fan of the Expanded Universe?  \\\n",
      "6                                               False                \n",
      "7                                               False                \n",
      "8                                                 NaN                \n",
      "9                                                 NaN                \n",
      "15                                                NaN                \n",
      "\n",
      "    Do you consider yourself to be a fan of the Star Trek franchise? Gender  \\\n",
      "6                                                True                  Male   \n",
      "7                                               False                  Male   \n",
      "8                                                True                  Male   \n",
      "9                                               False                  Male   \n",
      "15                                              False                  Male   \n",
      "\n",
      "      Age   Household Income                         Education  \\\n",
      "6   18-29  $25,000 - $49,999                   Bachelor degree   \n",
      "7   18-29                NaN                High school degree   \n",
      "8   18-29                NaN                High school degree   \n",
      "9   18-29       $0 - $24,999  Some college or Associate degree   \n",
      "15  18-29                NaN                High school degree   \n",
      "\n",
      "   Location (Census Region)  \n",
      "6           Middle Atlantic  \n",
      "7        East North Central  \n",
      "8            South Atlantic  \n",
      "9            South Atlantic  \n",
      "15       East North Central  \n",
      "\n",
      "[5 rows x 38 columns]\n",
      "\n",
      "\n",
      "    RespondentID  \\\n",
      "5           True   \n",
      "13          True   \n",
      "18          True   \n",
      "20          True   \n",
      "23          True   \n",
      "\n",
      "    Have you seen any of the 6 films in the Star Wars franchise?  \\\n",
      "5                                                True              \n",
      "13                                               True              \n",
      "18                                               True              \n",
      "20                                               True              \n",
      "23                                               True              \n",
      "\n",
      "   Do you consider yourself to be a fan of the Star Wars film franchise?  \\\n",
      "5                                                True                      \n",
      "13                                              False                      \n",
      "18                                               True                      \n",
      "20                                               True                      \n",
      "23                                               True                      \n",
      "\n",
      "    seen_ep1  seen_ep2  seen_ep3  seen_ep4  seen_ep5  seen_ep6  ranking_ep1  \\\n",
      "5       True      True      True      True      True      True          5.0   \n",
      "13      True      True      True      True      True      True          3.0   \n",
      "18      True      True      True     False     False      True          1.0   \n",
      "20      True      True      True      True      True      True          6.0   \n",
      "23      True      True      True      True      True      True          6.0   \n",
      "\n",
      "             ...                    Unnamed: 28  Which character shot first?  \\\n",
      "5            ...             Somewhat favorably                        False   \n",
      "13           ...                 Very favorably                        False   \n",
      "18           ...                 Very favorably                        False   \n",
      "20           ...                 Very favorably                        False   \n",
      "23           ...                 Very favorably                        False   \n",
      "\n",
      "    Are you familiar with the Expanded Universe?  \\\n",
      "5                                           True   \n",
      "13                                         False   \n",
      "18                                         False   \n",
      "20                                         False   \n",
      "23                                          True   \n",
      "\n",
      "    Do you consider yourself to be a fan of the Expanded Universe?  \\\n",
      "5                                               False                \n",
      "13                                                NaN                \n",
      "18                                                NaN                \n",
      "20                                                NaN                \n",
      "23                                               True                \n",
      "\n",
      "    Do you consider yourself to be a fan of the Star Trek franchise? Gender  \\\n",
      "5                                               False                  Male   \n",
      "13                                              False                  Male   \n",
      "18                                              False                  Male   \n",
      "20                                               True                  Male   \n",
      "23                                               True                  Male   \n",
      "\n",
      "      Age     Household Income                         Education  \\\n",
      "5   18-29  $100,000 - $149,999  Some college or Associate degree   \n",
      "13  18-29    $25,000 - $49,999                   Bachelor degree   \n",
      "18  18-29                  NaN  Some college or Associate degree   \n",
      "20  18-29    $50,000 - $99,999  Some college or Associate degree   \n",
      "23  18-29    $50,000 - $99,999                   Bachelor degree   \n",
      "\n",
      "   Location (Census Region)  \n",
      "5        West North Central  \n",
      "13           South Atlantic  \n",
      "18          Middle Atlantic  \n",
      "20       West North Central  \n",
      "23           South Atlantic  \n",
      "\n",
      "[5 rows x 38 columns]\n"
     ]
    }
   ],
   "source": [
    "han = star_wars[star_wars['Which character shot first?'] == True]\n",
    "greedo = star_wars[star_wars['Which character shot first?'] == False]\n",
    "print (han.head())\n",
    "print ('\\n')\n",
    "print (greedo.head())\n"
   ]
  },
  {
   "cell_type": "markdown",
   "metadata": {},
   "source": [
    "## Seen movie data based on which character shot first"
   ]
  },
  {
   "cell_type": "code",
   "execution_count": 38,
   "metadata": {},
   "outputs": [
    {
     "name": "stdout",
     "output_type": "stream",
     "text": [
      "seen_ep1    283\n",
      "seen_ep2    265\n",
      "seen_ep3    260\n",
      "seen_ep4    287\n",
      "seen_ep5    313\n",
      "seen_ep6    311\n",
      "dtype: int64\n",
      "\n",
      "\n",
      "seen_ep1    173\n",
      "seen_ep2    150\n",
      "seen_ep3    144\n",
      "seen_ep4    156\n",
      "seen_ep5    179\n",
      "seen_ep6    179\n",
      "dtype: int64\n"
     ]
    }
   ],
   "source": [
    "seen_sum_han = han[han.columns[3:9]].sum()\n",
    "print (seen_sum_han)\n",
    "print ('\\n')\n",
    "\n",
    "seen_sum_greedo = greedo[greedo.columns[3:9]].sum()\n",
    "print (seen_sum_greedo)\n"
   ]
  },
  {
   "cell_type": "code",
   "execution_count": 39,
   "metadata": {},
   "outputs": [
    {
     "data": {
      "image/png": "[encoded data removed]",
      "text/plain": [
       "<matplotlib.figure.Figure at 0x7f8f3cb3e470>"
      ]
     },
     "metadata": {},
     "output_type": "display_data"
    }
   ],
   "source": [
    "#Plotting Han and Greedo (who shot first?) seen movie data together\n",
    "N = 6\n",
    "\n",
    "# values of blue bars (height)\n",
    "seen_hanfirst = (seen_sum_han)\n",
    "# values of orange bars (height)\n",
    "seen_greedofirst = (seen_sum_greedo)\n",
    "\n",
    "# Position of bars on x-axis\n",
    "ind = np.arange(N)\n",
    "\n",
    "# Figure size\n",
    "plt.figure(figsize=(12,6))\n",
    "\n",
    "# Width of a bar \n",
    "width = 0.3       \n",
    "\n",
    "# Plotting\n",
    "plt.bar(ind, seen_hanfirst, width, color='blue', label='Han shot first')\n",
    "plt.bar(ind + width, seen_greedofirst, width, color='orange', label='Greedo shot first')\n",
    "\n",
    "plt.xlabel('Seen Movie Sum', size=14)\n",
    "plt.ylabel('# of Respondants Seen Movie', size=14)\n",
    "plt.title('Seen Movie Sum by Han vs. Greedo (who shot first?)', size=22)\n",
    "\n",
    "# xticks()\n",
    "# First argument - A list of positions at which ticks should be placed\n",
    "# Second argument -  A list of labels to place at the given locations\n",
    "plt.xticks(ind + (width*2) / 2, ('seen_ep1', 'seen_ep2', 'seen_ep3', 'seen_ep4', 'seen_ep5', 'seen_ep6'))\n",
    "\n",
    "# Finding the best position for legends and putting it\n",
    "plt.legend(loc='best')\n",
    "plt.show()"
   ]
  },
  {
   "cell_type": "markdown",
   "metadata": {},
   "source": [
    "Nearly twice as many respondants said they believe Han shot first rather than Greedo. More than half the respondants either didn't respond or said they didn't understand the question (I left those out of this particular analysis). <br/>\n",
    "<br/>\n",
    "**'Han shot first' group's seen movies in order of most to least seen: <br/>\n",
    "Episode V<br/>\n",
    "Episode VI<br/>\n",
    "Episode IV<br/> \n",
    "Episode I<br/> \n",
    "Episode II<br/>\n",
    "Episode III <br/>\n",
    "<br/>\n",
    "'Greedo shot first' group's seen movies in order of most to least seen: <br/>\n",
    "Episode V and Episode VI <br/>\n",
    "Episode I <br/>\n",
    "Episode IV <br/>\n",
    "Episode II <br/>\n",
    "Episode III**"
   ]
  },
  {
   "cell_type": "markdown",
   "metadata": {},
   "source": [
    "## Charting mean rankings for the movies based on which character shot first"
   ]
  },
  {
   "cell_type": "code",
   "execution_count": 40,
   "metadata": {},
   "outputs": [
    {
     "name": "stdout",
     "output_type": "stream",
     "text": [
      "ranking_ep1    4.295385\n",
      "ranking_ep2    4.298462\n",
      "ranking_ep3    4.385802\n",
      "ranking_ep4    2.769231\n",
      "ranking_ep5    2.332308\n",
      "ranking_ep6    2.913846\n",
      "dtype: float64\n",
      "\n",
      "\n",
      "ranking_ep1    3.857868\n",
      "ranking_ep2    4.238579\n",
      "ranking_ep3    4.426396\n",
      "ranking_ep4    3.101523\n",
      "ranking_ep5    2.370558\n",
      "ranking_ep6    3.005076\n",
      "dtype: float64\n"
     ]
    }
   ],
   "source": [
    "mean_rankings_han = han[han.columns[9:15]].mean(skipna=True)\n",
    "print (mean_rankings_han)\n",
    "print ('\\n')\n",
    "mean_rankings_greedo = greedo[greedo.columns[9:15]].mean(skipna=True)\n",
    "print (mean_rankings_greedo)\n"
   ]
  },
  {
   "cell_type": "code",
   "execution_count": 41,
   "metadata": {},
   "outputs": [
    {
     "data": {
      "image/png": "[encoded data removed]",
      "text/plain": [
       "<matplotlib.figure.Figure at 0x7f8f3c933be0>"
      ]
     },
     "metadata": {},
     "output_type": "display_data"
    }
   ],
   "source": [
    "#Plotting Han and Greedo (who shot first?) movie ranking data together\n",
    "N = 6\n",
    "\n",
    "# values of blue bars (height)\n",
    "mean_hanfirst = (mean_rankings_han)\n",
    "# values of orange bars (height)\n",
    "mean_greedofirst = (mean_rankings_greedo)\n",
    "\n",
    "# Position of bars on x-axis\n",
    "ind = np.arange(N)\n",
    "\n",
    "# Figure size\n",
    "plt.figure(figsize=(12,6))\n",
    "\n",
    "# Width of a bar \n",
    "width = 0.3       \n",
    "\n",
    "# Plotting\n",
    "plt.bar(ind, mean_hanfirst, width, color='blue', label='Han shot first')\n",
    "plt.bar(ind + width, mean_greedofirst, width, color='orange', label='Greedo shot first')\n",
    "\n",
    "plt.xlabel('Movie Episode', size=14)\n",
    "plt.ylabel('Mean Movie Ranking', size=14)\n",
    "plt.title('Mean Movie Ranking by Han vs. Greedo (who shot first?)', size=22)\n",
    "\n",
    "# xticks()\n",
    "# First argument - A list of positions at which ticks should be placed\n",
    "# Second argument -  A list of labels to place at the given locations\n",
    "plt.xticks(ind + (width*2) / 2, ('ranking_ep1', 'ranking_ep2', 'ranking_ep3', 'ranking_ep4', 'ranking_ep5', 'ranking_ep6'))\n",
    "\n",
    "# Finding the best position for legends and putting it\n",
    "plt.legend(loc='best')\n",
    "plt.show()"
   ]
  },
  {
   "cell_type": "markdown",
   "metadata": {},
   "source": [
    "The differences in the movie rankings by the 'Which character shot first?' subsets are not very different. What is interesting however, is that this is the first time we see the rankings differ from the order of most to least seen for any of the subsets. <br/>\n",
    "<br/>\n",
    "**'Han shot first' group's ranked movies in order of best to worst: <br/>\n",
    "Episode V<br/>\n",
    "Episode IV<br/>\n",
    "Episode VI<br/> \n",
    "Episode I<br/> \n",
    "Episode II<br/>\n",
    "Episode III <br/>\n",
    "<br/>\n",
    "'Greedo shot first' group's ranked movies in order of best to worst <br/>\n",
    "Episode V<br/>\n",
    "Episode VI <br/>\n",
    "Episode IV <br/>\n",
    "Episode I <br/>\n",
    "Episode II <br/>\n",
    "Episode III**<br/>\n",
    "<br/>\n",
    "We can see that the only difference in the rankings is that Han fans ranked Episode IV over Episode VI and Greedo fans ranked those vice-versa."
   ]
  },
  {
   "cell_type": "markdown",
   "metadata": {},
   "source": [
    "## Segmenting the data based on respondants' Education"
   ]
  },
  {
   "cell_type": "code",
   "execution_count": 42,
   "metadata": {},
   "outputs": [
    {
     "name": "stdout",
     "output_type": "stream",
     "text": [
      "Some college or Associate degree    328\n",
      "Bachelor degree                     321\n",
      "Graduate degree                     275\n",
      "NaN                                 150\n",
      "High school degree                  105\n",
      "Less than high school degree          7\n",
      "Name: Education, dtype: int64\n"
     ]
    }
   ],
   "source": [
    "print(star_wars['Education'].value_counts(dropna=False))\n"
   ]
  },
  {
   "cell_type": "code",
   "execution_count": 43,
   "metadata": {
    "scrolled": true
   },
   "outputs": [
    {
     "name": "stdout",
     "output_type": "stream",
     "text": [
      "Some college or Associate    328\n",
      "Bachelor                     321\n",
      "Graduate                     275\n",
      "High school                  105\n",
      "Less than high school          7\n",
      "Name: Education, dtype: int64\n"
     ]
    }
   ],
   "source": [
    "#cleaning the values so they're easier to work with\n",
    "star_wars['Education'] = star_wars['Education'].str.replace(' degree', '')\n",
    "star_wars['Education'] = star_wars['Education'].dropna()\n",
    "edu_value_counts = (star_wars['Education'].value_counts())\n",
    "print (edu_value_counts)"
   ]
  },
  {
   "cell_type": "code",
   "execution_count": 44,
   "metadata": {},
   "outputs": [
    {
     "name": "stdout",
     "output_type": "stream",
     "text": [
      "Some college or Associate    328\n",
      "Bachelor                     321\n",
      "Graduate                     275\n",
      "High school                  105\n",
      "Name: Education, dtype: int64\n"
     ]
    }
   ],
   "source": [
    "#removing 'Less than high school' since it has too few respondants to analyze\n",
    "to_remove = star_wars['Education'] == 'Less than high school'\n",
    "star_wars['Education'] = star_wars['Education'][~to_remove]\n",
    "edu_value_counts = (star_wars['Education'].value_counts())\n",
    "print (edu_value_counts)\n"
   ]
  },
  {
   "cell_type": "code",
   "execution_count": 45,
   "metadata": {},
   "outputs": [],
   "source": [
    "#filtering the data by each education level\n",
    "sw_edu_some = star_wars[star_wars['Education'] == 'Some college or Associate']\n",
    "sw_edu_bach = star_wars[star_wars['Education'] == 'Bachelor']\n",
    "sw_edu_grad = star_wars[star_wars['Education'] == 'Graduate']\n",
    "sw_edu_hs = star_wars[star_wars['Education'] == 'High school']\n"
   ]
  },
  {
   "cell_type": "code",
   "execution_count": 46,
   "metadata": {
    "scrolled": true
   },
   "outputs": [
    {
     "name": "stdout",
     "output_type": "stream",
     "text": [
      "seen_ep1    211\n",
      "seen_ep2    186\n",
      "seen_ep3    183\n",
      "seen_ep4    180\n",
      "seen_ep5    227\n",
      "seen_ep6    223\n",
      "dtype: int64\n",
      "\n",
      "\n",
      "seen_ep1    206\n",
      "seen_ep2    170\n",
      "seen_ep3    163\n",
      "seen_ep4    195\n",
      "seen_ep5    243\n",
      "seen_ep6    234\n",
      "dtype: int64\n",
      "\n",
      "\n",
      "seen_ep1    179\n",
      "seen_ep2    149\n",
      "seen_ep3    139\n",
      "seen_ep4    163\n",
      "seen_ep5    207\n",
      "seen_ep6    201\n",
      "dtype: int64\n",
      "\n",
      "\n",
      "seen_ep1    57\n",
      "seen_ep2    48\n",
      "seen_ep3    48\n",
      "seen_ep4    53\n",
      "seen_ep5    61\n",
      "seen_ep6    60\n",
      "dtype: int64\n",
      "\n",
      "\n"
     ]
    }
   ],
   "source": [
    "#summing the seen movie columns by each education level subset\n",
    "seen_sum_sw_edu_some = sw_edu_some[sw_edu_some.columns[3:9]].sum()\n",
    "print (seen_sum_sw_edu_some)\n",
    "print ('\\n')\n",
    "seen_sum_sw_edu_bach = sw_edu_bach[sw_edu_bach.columns[3:9]].sum()\n",
    "print (seen_sum_sw_edu_bach)\n",
    "print ('\\n')\n",
    "seen_sum_sw_edu_grad = sw_edu_grad[sw_edu_grad.columns[3:9]].sum()\n",
    "print (seen_sum_sw_edu_grad)\n",
    "print ('\\n')\n",
    "seen_sum_sw_edu_hs = sw_edu_hs[sw_edu_hs.columns[3:9]].sum()\n",
    "print (seen_sum_sw_edu_hs)\n",
    "print ('\\n')\n"
   ]
  },
  {
   "cell_type": "code",
   "execution_count": 47,
   "metadata": {},
   "outputs": [
    {
     "data": {
      "image/png": "[encoded data removed]",
      "text/plain": [
       "<matplotlib.figure.Figure at 0x7f8f3c858eb8>"
      ]
     },
     "metadata": {},
     "output_type": "display_data"
    }
   ],
   "source": [
    "#Plotting seen movie data by Education level of respondants\n",
    "N = 6\n",
    "\n",
    "# values of blue bars (height)\n",
    "seen_somecollege = (seen_sum_sw_edu_some)\n",
    "# values of orange bars (height)\n",
    "seen_bachelors = (seen_sum_sw_edu_bach)\n",
    "# values of purple bars (height)\n",
    "seen_grad = (seen_sum_sw_edu_grad)\n",
    "# values of green bars (height)\n",
    "seen_hs = (seen_sum_sw_edu_hs)\n",
    "\n",
    "# Position of bars on x-axis\n",
    "ind = np.arange(N)\n",
    "\n",
    "# Figure size\n",
    "plt.figure(figsize=(12,6))\n",
    "\n",
    "# Width of a bar \n",
    "width = 0.18       \n",
    "\n",
    "# Plotting\n",
    "plt.bar(ind, seen_somecollege, width, color='blue', label='Some College')\n",
    "plt.bar(ind + width, seen_bachelors, width, color='orange', label='Bachelors')\n",
    "plt.bar(ind + width * 2, seen_grad, width, color='purple', label='Graduate')\n",
    "plt.bar(ind + width * 3, seen_hs, width, color='green', label='High School')\n",
    "\n",
    "\n",
    "plt.xlabel('Seen Movie Sum', size=14)\n",
    "plt.ylabel('# of Respondants Seen Movie', size=14)\n",
    "plt.title('Seen Movie Sum by Education Level of Respondants', size=22)\n",
    "\n",
    "# xticks()\n",
    "# First argument - A list of positions at which ticks should be placed\n",
    "# Second argument -  A list of labels to place at the given locations\n",
    "plt.xticks(ind + (width*2), ('seen_ep1', 'seen_ep2', 'seen_ep3', 'seen_ep4', 'seen_ep5', 'seen_ep6'))\n",
    "\n",
    "# Finding the best position for legends and putting it\n",
    "plt.legend(loc='best')\n",
    "plt.show()"
   ]
  },
  {
   "cell_type": "markdown",
   "metadata": {},
   "source": [
    "In general there are far less respondants who have only graduated high school (or less) than any of the higher education respondants so that's a major reason for the discrepancy we see in the above chart. It would be interesting to see this as a percentage vs. just amounts."
   ]
  },
  {
   "cell_type": "code",
   "execution_count": 48,
   "metadata": {},
   "outputs": [
    {
     "name": "stdout",
     "output_type": "stream",
     "text": [
      "seen_ep1    64.329268\n",
      "seen_ep2    56.707317\n",
      "seen_ep3    55.792683\n",
      "seen_ep4    54.878049\n",
      "seen_ep5    69.207317\n",
      "seen_ep6    67.987805\n",
      "dtype: float64\n",
      "\n",
      "\n",
      "seen_ep1    64.174455\n",
      "seen_ep2    52.959502\n",
      "seen_ep3    50.778816\n",
      "seen_ep4    60.747664\n",
      "seen_ep5    75.700935\n",
      "seen_ep6    72.897196\n",
      "dtype: float64\n",
      "\n",
      "\n",
      "seen_ep1    65.090909\n",
      "seen_ep2    54.181818\n",
      "seen_ep3    50.545455\n",
      "seen_ep4    59.272727\n",
      "seen_ep5    75.272727\n",
      "seen_ep6    73.090909\n",
      "dtype: float64\n",
      "\n",
      "\n",
      "seen_ep1    54.285714\n",
      "seen_ep2    45.714286\n",
      "seen_ep3    45.714286\n",
      "seen_ep4    50.476190\n",
      "seen_ep5    58.095238\n",
      "seen_ep6    57.142857\n",
      "dtype: float64\n",
      "\n",
      "\n"
     ]
    }
   ],
   "source": [
    "#calculating percentage of seen movie columns by education level subsets\n",
    "per_seen_by_edu_some = (seen_sum_sw_edu_some / edu_value_counts[0]) *100\n",
    "print (per_seen_by_edu_some)\n",
    "print ('\\n')\n",
    "\n",
    "per_seen_by_edu_bach = (seen_sum_sw_edu_bach / edu_value_counts[1]) *100\n",
    "print (per_seen_by_edu_bach)\n",
    "print ('\\n')\n",
    "\n",
    "per_seen_by_edu_grad = (seen_sum_sw_edu_grad / edu_value_counts[2]) *100\n",
    "print (per_seen_by_edu_grad)\n",
    "print ('\\n')\n",
    "\n",
    "per_seen_by_edu_hs = (seen_sum_sw_edu_hs / edu_value_counts[3]) *100\n",
    "print (per_seen_by_edu_hs)\n",
    "print ('\\n')\n",
    "\n"
   ]
  },
  {
   "cell_type": "code",
   "execution_count": 49,
   "metadata": {},
   "outputs": [
    {
     "data": {
      "image/png": "[encoded data removed]",
      "text/plain": [
       "<matplotlib.figure.Figure at 0x7f8f3c7de8d0>"
      ]
     },
     "metadata": {},
     "output_type": "display_data"
    }
   ],
   "source": [
    "#Plotting seen movie data by Education level of respondants by percentage\n",
    "N = 6\n",
    "\n",
    "# values of blue bars (height)\n",
    "seenper_somecollege = (per_seen_by_edu_some)\n",
    "# values of orange bars (height)\n",
    "seenper_bachelors = (per_seen_by_edu_bach)\n",
    "# values of purple bars (height)\n",
    "seenper_grad = (per_seen_by_edu_grad)\n",
    "# values of green bars (height)\n",
    "seenper_hs = (per_seen_by_edu_hs)\n",
    "\n",
    "\n",
    "# Position of bars on x-axis\n",
    "ind = np.arange(N)\n",
    "\n",
    "# Figure size\n",
    "plt.figure(figsize=(12,6))\n",
    "\n",
    "# Width of a bar \n",
    "width = 0.18       \n",
    "\n",
    "# Plotting\n",
    "plt.bar(ind, seenper_somecollege, width, color='blue', label='Some College')\n",
    "plt.bar(ind + width, seenper_bachelors, width, color='orange', label='Bachelors')\n",
    "plt.bar(ind + width * 2, seenper_grad, width, color='purple', label='Graduate')\n",
    "plt.bar(ind + width * 3, seenper_hs, width, color='green', label='High School')\n",
    "\n",
    "plt.xlabel('Movies', size=14)\n",
    "plt.ylabel('% of Respondants Seen Movie', size=14)\n",
    "plt.title('Seen Movie Sum by Education Level of Respondants by %', size=22)\n",
    "\n",
    "# xticks()\n",
    "# First argument - A list of positions at which ticks should be placed\n",
    "# Second argument -  A list of labels to place at the given locations\n",
    "plt.xticks(ind + width * 2, ('seen_ep1', 'seen_ep2', 'seen_ep3', 'seen_ep4', 'seen_ep5', 'seen_ep6'))\n",
    "\n",
    "# Finding the best position for legends and putting it\n",
    "plt.legend(loc='best')\n",
    "plt.show()"
   ]
  },
  {
   "cell_type": "markdown",
   "metadata": {
    "collapsed": true
   },
   "source": [
    "What's interesting about the above chart is that respondants with a Bachelor or Graduate degree have a higher rate of having seen Episodes V, VI, and IV (respectively), but that seems to drop off pretty drastically after Episode I (in which they are neck and neck with the respondants with 'Some college or associates degree'). Here, again, we see that Episode V has been seen the most by each subset. We can also see there is a lower overall rate of respondants who have High School level education or less who've seen the movies generally."
   ]
  },
  {
   "cell_type": "markdown",
   "metadata": {},
   "source": [
    "## Charting mean ranking for the movies based on education levels of respondants"
   ]
  },
  {
   "cell_type": "code",
   "execution_count": 50,
   "metadata": {},
   "outputs": [
    {
     "name": "stdout",
     "output_type": "stream",
     "text": [
      "ranking_ep1    3.551181\n",
      "ranking_ep2    3.885827\n",
      "ranking_ep3    4.102362\n",
      "ranking_ep4    3.503937\n",
      "ranking_ep5    2.783465\n",
      "ranking_ep6    3.173228\n",
      "dtype: float64\n",
      "\n",
      "\n",
      "ranking_ep1    3.828244\n",
      "ranking_ep2    4.290076\n",
      "ranking_ep3    4.521073\n",
      "ranking_ep4    3.114504\n",
      "ranking_ep5    2.309160\n",
      "ranking_ep6    2.931298\n",
      "dtype: float64\n",
      "\n",
      "\n",
      "ranking_ep1    3.822222\n",
      "ranking_ep2    4.225664\n",
      "ranking_ep3    4.500000\n",
      "ranking_ep4    3.199115\n",
      "ranking_ep5    2.323009\n",
      "ranking_ep6    2.920354\n",
      "dtype: float64\n",
      "\n",
      "\n",
      "ranking_ep1    3.802817\n",
      "ranking_ep2    3.746479\n",
      "ranking_ep3    4.126761\n",
      "ranking_ep4    3.211268\n",
      "ranking_ep5    2.873239\n",
      "ranking_ep6    3.239437\n",
      "dtype: float64\n",
      "\n",
      "\n"
     ]
    }
   ],
   "source": [
    "#calculating mean rankings of movies by education level subsets\n",
    "mean_rankings_edu_some = sw_edu_some[sw_edu_some.columns[9:15]].mean(skipna=True)\n",
    "print (mean_rankings_edu_some)\n",
    "print ('\\n')\n",
    "mean_rankings_edu_bach = sw_edu_bach[sw_edu_bach.columns[9:15]].mean(skipna=True)\n",
    "print (mean_rankings_edu_bach)\n",
    "print ('\\n')\n",
    "mean_rankings_edu_grad = sw_edu_grad[sw_edu_grad.columns[9:15]].mean(skipna=True)\n",
    "print (mean_rankings_edu_grad)\n",
    "print ('\\n')\n",
    "mean_rankings_edu_hs = sw_edu_hs[sw_edu_hs.columns[9:15]].mean(skipna=True)\n",
    "print (mean_rankings_edu_hs)\n",
    "print ('\\n')\n"
   ]
  },
  {
   "cell_type": "code",
   "execution_count": 51,
   "metadata": {
    "scrolled": true
   },
   "outputs": [
    {
     "data": {
      "image/png": "[encoded data removed]",
      "text/plain": [
       "<matplotlib.figure.Figure at 0x7f8f3c797d68>"
      ]
     },
     "metadata": {},
     "output_type": "display_data"
    }
   ],
   "source": [
    "#Plotting movie ranking data by education levels of respondants\n",
    "N = 6\n",
    "\n",
    "# values of blue bars (height)\n",
    "mean_somecollege = (mean_rankings_edu_some)\n",
    "# values of orange bars (height)\n",
    "mean_bachelors = (mean_rankings_edu_bach)\n",
    "# values of purple bars (height)\n",
    "mean_grad = (mean_rankings_edu_grad)\n",
    "# values of green bars (height)\n",
    "mean_hs = (mean_rankings_edu_hs)\n",
    "\n",
    "\n",
    "# Position of bars on x-axis\n",
    "ind = np.arange(N)\n",
    "\n",
    "# Figure size\n",
    "plt.figure(figsize=(12,6))\n",
    "\n",
    "# Width of a bar \n",
    "width = 0.18       \n",
    "\n",
    "# Plotting\n",
    "plt.bar(ind, mean_somecollege, width, color='blue', label='Some College')\n",
    "plt.bar(ind + width, mean_bachelors, width, color='orange', label='Bachelors')\n",
    "plt.bar(ind + width * 2, mean_grad, width, color='purple', label='Graduate')\n",
    "plt.bar(ind + width * 3, mean_hs, width, color='green', label='High School')\n",
    "\n",
    "\n",
    "plt.xlabel('Movie Episode', size=14)\n",
    "plt.ylabel('Mean Movie Ranking', size=14)\n",
    "plt.title('Mean Movie Ranking by Education Level of Respondants', size=22)\n",
    "\n",
    "# xticks()\n",
    "# First argument - A list of positions at which ticks should be placed\n",
    "# Second argument -  A list of labels to place at the given locations\n",
    "plt.xticks(ind + width / 2, ('ranking_ep1', 'ranking_ep2', 'ranking_ep3', 'ranking_ep4', 'ranking_ep5', 'ranking_ep6'))\n",
    "\n",
    "# Finding the best position for legends and putting it\n",
    "plt.legend(loc='best')\n",
    "plt.show()"
   ]
  },
  {
   "cell_type": "markdown",
   "metadata": {},
   "source": [
    "Once again, we see that every subset ranked Episode V: The Empire Strikes Back as the best movie of the series. Here, as we've seen before, Episodes VI and IV fall close behind Episode V and then Episodes I, II, and III come after that respectively. There isn't much deviation here between the subsets and we can exclude the 'Less than "
   ]
  },
  {
   "cell_type": "markdown",
   "metadata": {},
   "source": [
    "## Cleaning up columns 15-29 about character favorability"
   ]
  },
  {
   "cell_type": "code",
   "execution_count": 52,
   "metadata": {},
   "outputs": [
    {
     "name": "stdout",
     "output_type": "stream",
     "text": [
      "Please state whether you view the following characters favorably, unfavorably, or are unfamiliar with him/her.\n",
      "Very favorably                                 610\n",
      "NaN                                            357\n",
      "Somewhat favorably                             151\n",
      "Neither favorably nor unfavorably (neutral)     44\n",
      "Unfamiliar (N/A)                                15\n",
      "Somewhat unfavorably                             8\n",
      "Very unfavorably                                 1\n",
      "Name: Please state whether you view the following characters favorably, unfavorably, or are unfamiliar with him/her., dtype: int64\n",
      "\n",
      "\n",
      "Unnamed: 16\n",
      "Very favorably                                 552\n",
      "NaN                                            355\n",
      "Somewhat favorably                             219\n",
      "Neither favorably nor unfavorably (neutral)     38\n",
      "Somewhat unfavorably                            13\n",
      "Unfamiliar (N/A)                                 6\n",
      "Very unfavorably                                 3\n",
      "Name: Unnamed: 16, dtype: int64\n",
      "\n",
      "\n",
      "Unnamed: 17\n",
      "Very favorably                                 547\n",
      "NaN                                            355\n",
      "Somewhat favorably                             210\n",
      "Neither favorably nor unfavorably (neutral)     48\n",
      "Somewhat unfavorably                            12\n",
      "Unfamiliar (N/A)                                 8\n",
      "Very unfavorably                                 6\n",
      "Name: Unnamed: 17, dtype: int64\n",
      "\n",
      "\n",
      "Unnamed: 18\n",
      "NaN                                            363\n",
      "Somewhat favorably                             269\n",
      "Very favorably                                 245\n",
      "Neither favorably nor unfavorably (neutral)    135\n",
      "Somewhat unfavorably                            83\n",
      "Unfamiliar (N/A)                                52\n",
      "Very unfavorably                                39\n",
      "Name: Unnamed: 18, dtype: int64\n",
      "\n",
      "\n",
      "Unnamed: 19\n",
      "Very favorably                                 591\n",
      "NaN                                            361\n",
      "Somewhat favorably                             159\n",
      "Neither favorably nor unfavorably (neutral)     43\n",
      "Unfamiliar (N/A)                                17\n",
      "Somewhat unfavorably                             8\n",
      "Very unfavorably                                 7\n",
      "Name: Unnamed: 19, dtype: int64\n",
      "\n",
      "\n",
      "Unnamed: 20\n",
      "NaN                                            372\n",
      "Neither favorably nor unfavorably (neutral)    213\n",
      "Unfamiliar (N/A)                               156\n",
      "Somewhat favorably                             143\n",
      "Very unfavorably                               124\n",
      "Very favorably                                 110\n",
      "Somewhat unfavorably                            68\n",
      "Name: Unnamed: 20, dtype: int64\n",
      "\n",
      "\n",
      "Unnamed: 21\n",
      "NaN                                            360\n",
      "Very favorably                                 310\n",
      "Somewhat favorably                             171\n",
      "Very unfavorably                               149\n",
      "Somewhat unfavorably                           102\n",
      "Neither favorably nor unfavorably (neutral)     84\n",
      "Unfamiliar (N/A)                                10\n",
      "Name: Unnamed: 21, dtype: int64\n",
      "\n",
      "\n",
      "Unnamed: 22\n",
      "NaN                                            366\n",
      "Neither favorably nor unfavorably (neutral)    236\n",
      "Somewhat favorably                             223\n",
      "Unfamiliar (N/A)                               148\n",
      "Very favorably                                 142\n",
      "Somewhat unfavorably                            63\n",
      "Very unfavorably                                 8\n",
      "Name: Unnamed: 22, dtype: int64\n",
      "\n",
      "\n",
      "Unnamed: 23\n",
      "NaN                                            374\n",
      "Neither favorably nor unfavorably (neutral)    248\n",
      "Somewhat favorably                             153\n",
      "Very favorably                                 138\n",
      "Unfamiliar (N/A)                               132\n",
      "Somewhat unfavorably                            96\n",
      "Very unfavorably                                45\n",
      "Name: Unnamed: 23, dtype: int64\n",
      "\n",
      "\n",
      "Unnamed: 24\n",
      "Very favorably                                 474\n",
      "NaN                                            359\n",
      "Somewhat favorably                             229\n",
      "Neither favorably nor unfavorably (neutral)     79\n",
      "Somewhat unfavorably                            23\n",
      "Unfamiliar (N/A)                                15\n",
      "Very unfavorably                                 7\n",
      "Name: Unnamed: 24, dtype: int64\n",
      "\n",
      "\n",
      "Unnamed: 25\n",
      "Very favorably                                 562\n",
      "NaN                                            356\n",
      "Somewhat favorably                             185\n",
      "Neither favorably nor unfavorably (neutral)     57\n",
      "Somewhat unfavorably                            10\n",
      "Unfamiliar (N/A)                                10\n",
      "Very unfavorably                                 6\n",
      "Name: Unnamed: 25, dtype: int64\n",
      "\n",
      "\n",
      "Unnamed: 26\n",
      "NaN                                            365\n",
      "Very unfavorably                               204\n",
      "Neither favorably nor unfavorably (neutral)    164\n",
      "Somewhat favorably                             130\n",
      "Very favorably                                 112\n",
      "Unfamiliar (N/A)                               109\n",
      "Somewhat unfavorably                           102\n",
      "Name: Unnamed: 26, dtype: int64\n",
      "\n",
      "\n",
      "Unnamed: 27\n",
      "NaN                                            372\n",
      "Neither favorably nor unfavorably (neutral)    207\n",
      "Somewhat favorably                             183\n",
      "Very favorably                                 168\n",
      "Unfamiliar (N/A)                               164\n",
      "Somewhat unfavorably                            58\n",
      "Very unfavorably                                34\n",
      "Name: Unnamed: 27, dtype: int64\n",
      "\n",
      "\n",
      "Unnamed: 28\n",
      "Very favorably                                 605\n",
      "NaN                                            360\n",
      "Somewhat favorably                             144\n",
      "Neither favorably nor unfavorably (neutral)     51\n",
      "Unfamiliar (N/A)                                10\n",
      "Somewhat unfavorably                             8\n",
      "Very unfavorably                                 8\n",
      "Name: Unnamed: 28, dtype: int64\n",
      "\n",
      "\n"
     ]
    }
   ],
   "source": [
    "#Looking into columns 15-29\n",
    "character_cols = [15,16,17,18,19,20,21,22,23,24,25,26,27,28]\n",
    "\n",
    "for i in character_cols:\n",
    "    print (star_wars.columns[i])\n",
    "    print (star_wars[star_wars.columns[i]].value_counts(dropna=False))\n",
    "    print('\\n')"
   ]
  },
  {
   "cell_type": "markdown",
   "metadata": {},
   "source": [
    "Since the value counts don't give us the character names, let's look at the headings we separated out earlier."
   ]
  },
  {
   "cell_type": "code",
   "execution_count": 53,
   "metadata": {},
   "outputs": [
    {
     "name": "stdout",
     "output_type": "stream",
     "text": [
      "Please state whether you view the following characters favorably, unfavorably, or are unfamiliar with him/her.                Han Solo\n",
      "Unnamed: 16                                                                                                             Luke Skywalker\n",
      "Unnamed: 17                                                                                                       Princess Leia Organa\n",
      "Unnamed: 18                                                                                                           Anakin Skywalker\n",
      "Unnamed: 19                                                                                                             Obi Wan Kenobi\n",
      "Unnamed: 20                                                                                                          Emperor Palpatine\n",
      "Unnamed: 21                                                                                                                Darth Vader\n",
      "Unnamed: 22                                                                                                           Lando Calrissian\n",
      "Unnamed: 23                                                                                                                  Boba Fett\n",
      "Unnamed: 24                                                                                                                      C-3P0\n",
      "Unnamed: 25                                                                                                                      R2 D2\n",
      "Unnamed: 26                                                                                                              Jar Jar Binks\n",
      "Unnamed: 27                                                                                                              Padme Amidala\n",
      "Unnamed: 28                                                                                                                       Yoda\n",
      "Name: 0, dtype: object\n"
     ]
    }
   ],
   "source": [
    "#Looking into the headings for columns 15-28\n",
    "\n",
    "print (headings[15:29])"
   ]
  },
  {
   "cell_type": "code",
   "execution_count": 54,
   "metadata": {},
   "outputs": [
    {
     "name": "stdout",
     "output_type": "stream",
     "text": [
      "love          610\n",
      "like          151\n",
      "Neutral        44\n",
      "Unfamiliar     15\n",
      "dislike         8\n",
      "hate            1\n",
      "Name: Han Solo, dtype: int64\n",
      "\n",
      "\n",
      "love          552\n",
      "like          219\n",
      "Neutral        38\n",
      "dislike        13\n",
      "Unfamiliar      6\n",
      "hate            3\n",
      "Name: Luke Skywalker, dtype: int64\n",
      "\n",
      "\n",
      "love          547\n",
      "like          210\n",
      "Neutral        48\n",
      "dislike        12\n",
      "Unfamiliar      8\n",
      "hate            6\n",
      "Name: Princess Leia Organa, dtype: int64\n",
      "\n",
      "\n",
      "like          269\n",
      "love          245\n",
      "Neutral       135\n",
      "dislike        83\n",
      "Unfamiliar     52\n",
      "hate           39\n",
      "Name: Anakin Skywalker, dtype: int64\n",
      "\n",
      "\n",
      "love          591\n",
      "like          159\n",
      "Neutral        43\n",
      "Unfamiliar     17\n",
      "dislike         8\n",
      "hate            7\n",
      "Name: Obi Wan Kenobi, dtype: int64\n",
      "\n",
      "\n",
      "Neutral       213\n",
      "Unfamiliar    156\n",
      "like          143\n",
      "hate          124\n",
      "love          110\n",
      "dislike        68\n",
      "Name: Emperor Palpatine, dtype: int64\n",
      "\n",
      "\n",
      "love          310\n",
      "like          171\n",
      "hate          149\n",
      "dislike       102\n",
      "Neutral        84\n",
      "Unfamiliar     10\n",
      "Name: Darth Vader, dtype: int64\n",
      "\n",
      "\n",
      "Neutral       236\n",
      "like          223\n",
      "Unfamiliar    148\n",
      "love          142\n",
      "dislike        63\n",
      "hate            8\n",
      "Name: Lando Calrissian, dtype: int64\n",
      "\n",
      "\n",
      "Neutral       248\n",
      "like          153\n",
      "love          138\n",
      "Unfamiliar    132\n",
      "dislike        96\n",
      "hate           45\n",
      "Name: Boba Fett, dtype: int64\n",
      "\n",
      "\n",
      "love          474\n",
      "like          229\n",
      "Neutral        79\n",
      "dislike        23\n",
      "Unfamiliar     15\n",
      "hate            7\n",
      "Name: C-3P0, dtype: int64\n",
      "\n",
      "\n",
      "love          562\n",
      "like          185\n",
      "Neutral        57\n",
      "Unfamiliar     10\n",
      "dislike        10\n",
      "hate            6\n",
      "Name: R2 D2, dtype: int64\n",
      "\n",
      "\n",
      "hate          204\n",
      "Neutral       164\n",
      "like          130\n",
      "love          112\n",
      "Unfamiliar    109\n",
      "dislike       102\n",
      "Name: Jar Jar Binks, dtype: int64\n",
      "\n",
      "\n",
      "Neutral       207\n",
      "like          183\n",
      "love          168\n",
      "Unfamiliar    164\n",
      "dislike        58\n",
      "hate           34\n",
      "Name: Padme Amidala, dtype: int64\n",
      "\n",
      "\n",
      "love          605\n",
      "like          144\n",
      "Neutral        51\n",
      "Unfamiliar     10\n",
      "dislike         8\n",
      "hate            8\n",
      "Name: Yoda, dtype: int64\n",
      "\n",
      "\n"
     ]
    }
   ],
   "source": [
    "#Cleaning the answers for readability\n",
    "\n",
    "answer_map = {'Very favorably': 'love',\n",
    "             'Somewhat favorably': 'like',\n",
    "             'Neither favorably nor unfavorably (neutral)': 'Neutral',\n",
    "             'Somewhat unfavorably': 'dislike',\n",
    "             'Unfamiliar (N/A)': 'Unfamiliar',\n",
    "             'Very unfavorably': 'hate',\n",
    "             }\n",
    "char_map = {'Please state whether you view the following characters favorably, unfavorably, or are unfamiliar with him/her.': 'Han Solo',\n",
    "            'Unnamed: 16': 'Luke Skywalker',\n",
    "            'Unnamed: 17': 'Princess Leia Organa',\n",
    "            'Unnamed: 18': 'Anakin Skywalker',\n",
    "            'Unnamed: 19': 'Obi Wan Kenobi',\n",
    "            'Unnamed: 20': 'Emperor Palpatine',\n",
    "            'Unnamed: 21': 'Darth Vader',\n",
    "            'Unnamed: 22': 'Lando Calrissian',\n",
    "            'Unnamed: 23': 'Boba Fett',\n",
    "            'Unnamed: 24': 'C-3P0',\n",
    "            'Unnamed: 25': 'R2 D2',\n",
    "            'Unnamed: 26': 'Jar Jar Binks',\n",
    "            'Unnamed: 27': 'Padme Amidala',\n",
    "            'Unnamed: 28': 'Yoda'}\n",
    "    \n",
    "for i in character_cols:\n",
    "    star_wars[star_wars.columns[i]] = star_wars[star_wars.columns[i]].map(answer_map)\n",
    "    star_wars.rename(mapper=char_map, axis=1, inplace=True)\n",
    "    print (star_wars[star_wars.columns[i]].value_counts())\n",
    "    print ('\\n')\n"
   ]
  },
  {
   "cell_type": "code",
   "execution_count": 55,
   "metadata": {},
   "outputs": [
    {
     "name": "stdout",
     "output_type": "stream",
     "text": [
      "610\n",
      "\n",
      "\n",
      "552\n",
      "\n",
      "\n",
      "547\n",
      "\n",
      "\n",
      "245\n",
      "\n",
      "\n",
      "591\n",
      "\n",
      "\n",
      "110\n",
      "\n",
      "\n",
      "310\n",
      "\n",
      "\n",
      "142\n",
      "\n",
      "\n",
      "138\n",
      "\n",
      "\n",
      "474\n",
      "\n",
      "\n",
      "562\n",
      "\n",
      "\n",
      "112\n",
      "\n",
      "\n",
      "168\n",
      "\n",
      "\n",
      "605\n",
      "\n",
      "\n",
      "[610, 552, 547, 245, 591, 110, 310, 142, 138, 474, 562, 112, 168, 605]\n"
     ]
    }
   ],
   "source": [
    "#separating each character into their own object and separating only 'love' values\n",
    "han_solo = (star_wars['Han Solo'])\n",
    "han_love = (len(han_solo[han_solo == 'love']))\n",
    "print (han_love)\n",
    "print ('\\n')\n",
    "\n",
    "luke = (star_wars['Luke Skywalker'])\n",
    "luke_love = (len(luke[luke == 'love']))\n",
    "print (luke_love)\n",
    "print ('\\n')\n",
    "\n",
    "leia = (star_wars['Princess Leia Organa'])\n",
    "leia_love = (len(leia[leia == 'love']))\n",
    "print (leia_love)\n",
    "print ('\\n')\n",
    "\n",
    "anakin = (star_wars['Anakin Skywalker'])\n",
    "anakin_love = (len(anakin[anakin == 'love']))\n",
    "print (anakin_love)\n",
    "print ('\\n')\n",
    "\n",
    "obi_wan = (star_wars['Obi Wan Kenobi'])\n",
    "obi_love = (len(obi_wan[obi_wan == 'love']))\n",
    "print (obi_love)\n",
    "print ('\\n')\n",
    "\n",
    "palpatine = (star_wars['Emperor Palpatine'])\n",
    "palpatine_love = (len(palpatine[palpatine == 'love']))\n",
    "print (palpatine_love)\n",
    "print ('\\n')\n",
    "\n",
    "vader = (star_wars['Darth Vader'])\n",
    "vader_love = (len(vader[vader == 'love']))\n",
    "print (vader_love)\n",
    "print ('\\n')\n",
    "\n",
    "lando = (star_wars['Lando Calrissian'])\n",
    "lando_love = (len(lando[lando == 'love']))\n",
    "print (lando_love)\n",
    "print ('\\n')\n",
    "\n",
    "boba = (star_wars['Boba Fett'])\n",
    "boba_love = (len(boba[boba == 'love']))\n",
    "print (boba_love)\n",
    "print ('\\n')\n",
    "\n",
    "c3p0 = (star_wars['C-3P0'])\n",
    "c3p0_love = (len(c3p0[c3p0 == 'love']))\n",
    "print (c3p0_love)\n",
    "print ('\\n')\n",
    "\n",
    "r2d2 = (star_wars['R2 D2'])\n",
    "r2d2_love = (len(r2d2[r2d2 == 'love']))\n",
    "print (r2d2_love)\n",
    "print ('\\n')\n",
    "\n",
    "jarjar = (star_wars['Jar Jar Binks'])\n",
    "jarjar_love = (len(jarjar[jarjar == 'love']))\n",
    "print (jarjar_love)\n",
    "print ('\\n')\n",
    "\n",
    "padme = (star_wars['Padme Amidala'])\n",
    "padme_love = (len(padme[padme == 'love']))\n",
    "print (padme_love)\n",
    "print ('\\n')\n",
    "\n",
    "yoda = (star_wars['Yoda'])\n",
    "yoda_love = (len(yoda[yoda == 'love']))\n",
    "print (yoda_love)\n",
    "print ('\\n')\n",
    "\n",
    "characters_love = [han_love, luke_love, leia_love, anakin_love, obi_love, palpatine_love, vader_love,\n",
    "                  lando_love, boba_love, c3p0_love, r2d2_love, jarjar_love, padme_love, yoda_love]\n",
    "print (characters_love)"
   ]
  },
  {
   "cell_type": "code",
   "execution_count": 56,
   "metadata": {},
   "outputs": [
    {
     "data": {
      "image/png": "[encoded data removed]",
      "text/plain": [
       "<matplotlib.figure.Figure at 0x7f8f3c8db080>"
      ]
     },
     "metadata": {},
     "output_type": "display_data"
    }
   ],
   "source": [
    "#Plotting characters by love (highly favorable)\n",
    "N = 14\n",
    "\n",
    "# values of blue bars (height)\n",
    "character_love_bar = (characters_love)\n",
    "\n",
    "\n",
    "# Position of bars on x-axis\n",
    "ind = np.arange(N)\n",
    "\n",
    "# Figure size\n",
    "plt.figure(figsize=(12,6))\n",
    "\n",
    "# Width of a bar \n",
    "width = 0.3       \n",
    "\n",
    "# Plotting\n",
    "plt.bar(ind, character_love_bar, width, color='blue')\n",
    "\n",
    "\n",
    "plt.xlabel('Characters', size=14)\n",
    "plt.ylabel('High Favorability (love)', size=14)\n",
    "plt.title('High Favorability by Character', size=22)\n",
    "\n",
    "# xticks()\n",
    "# First argument - A list of positions at which ticks should be placed\n",
    "# Second argument -  A list of labels to place at the given locations\n",
    "plt.xticks(ind + width / 2, ('Han', 'Luke', 'Leia', 'Anakin', 'Obi', 'Palpatine', 'Vader',\n",
    "          'Lando', 'Boba', 'C-3P0', 'R2D2', 'Jar Jar', 'Padme', 'Yoda'), rotation='45')\n",
    "\n",
    "# Show plot\n",
    "plt.show()"
   ]
  },
  {
   "cell_type": "markdown",
   "metadata": {
    "collapsed": true
   },
   "source": [
    "Unsurprisingly, Han Solo and Yoda are the top 2 most liked (highly favorable) characters. Obi-Wan Kenobi and R2D2 follow them in likeability, which is also not surprising as these are 4 of the most iconic and likeable characters in the franchise. What is a bit surprising is that JarJar Binks is the 2nd least loved character, just slightly above Emperor Palpatine - who is the biggest villain in the franchise."
   ]
  },
  {
   "cell_type": "markdown",
   "metadata": {},
   "source": [
    "## Looking at characters by 'hate' responses"
   ]
  },
  {
   "cell_type": "code",
   "execution_count": 57,
   "metadata": {
    "scrolled": true
   },
   "outputs": [
    {
     "name": "stdout",
     "output_type": "stream",
     "text": [
      "1\n",
      "\n",
      "\n",
      "3\n",
      "\n",
      "\n",
      "6\n",
      "\n",
      "\n",
      "39\n",
      "\n",
      "\n",
      "7\n",
      "\n",
      "\n",
      "124\n",
      "\n",
      "\n",
      "149\n",
      "\n",
      "\n",
      "8\n",
      "\n",
      "\n",
      "45\n",
      "\n",
      "\n",
      "7\n",
      "\n",
      "\n",
      "6\n",
      "\n",
      "\n",
      "204\n",
      "\n",
      "\n",
      "34\n",
      "\n",
      "\n",
      "8\n",
      "\n",
      "\n",
      "[1, 3, 6, 39, 7, 124, 149, 8, 45, 7, 6, 204, 34, 8]\n"
     ]
    }
   ],
   "source": [
    "#separating each character into their own object and separating only 'love' values\n",
    "han_solo = (star_wars['Han Solo'])\n",
    "han_hate = (len(han_solo[han_solo == 'hate']))\n",
    "print (han_hate)\n",
    "print ('\\n')\n",
    "\n",
    "luke = (star_wars['Luke Skywalker'])\n",
    "luke_hate = (len(luke[luke == 'hate']))\n",
    "print (luke_hate)\n",
    "print ('\\n')\n",
    "\n",
    "leia = (star_wars['Princess Leia Organa'])\n",
    "leia_hate = (len(leia[leia == 'hate']))\n",
    "print (leia_hate)\n",
    "print ('\\n')\n",
    "\n",
    "anakin = (star_wars['Anakin Skywalker'])\n",
    "anakin_hate = (len(anakin[anakin == 'hate']))\n",
    "print (anakin_hate)\n",
    "print ('\\n')\n",
    "\n",
    "obi_wan = (star_wars['Obi Wan Kenobi'])\n",
    "obi_hate = (len(obi_wan[obi_wan == 'hate']))\n",
    "print (obi_hate)\n",
    "print ('\\n')\n",
    "\n",
    "palpatine = (star_wars['Emperor Palpatine'])\n",
    "palpatine_hate = (len(palpatine[palpatine == 'hate']))\n",
    "print (palpatine_hate)\n",
    "print ('\\n')\n",
    "\n",
    "vader = (star_wars['Darth Vader'])\n",
    "vader_hate = (len(vader[vader == 'hate']))\n",
    "print (vader_hate)\n",
    "print ('\\n')\n",
    "\n",
    "lando = (star_wars['Lando Calrissian'])\n",
    "lando_hate = (len(lando[lando == 'hate']))\n",
    "print (lando_hate)\n",
    "print ('\\n')\n",
    "\n",
    "boba = (star_wars['Boba Fett'])\n",
    "boba_hate = (len(boba[boba == 'hate']))\n",
    "print (boba_hate)\n",
    "print ('\\n')\n",
    "\n",
    "c3p0 = (star_wars['C-3P0'])\n",
    "c3p0_hate = (len(c3p0[c3p0 == 'hate']))\n",
    "print (c3p0_hate)\n",
    "print ('\\n')\n",
    "\n",
    "r2d2 = (star_wars['R2 D2'])\n",
    "r2d2_hate = (len(r2d2[r2d2 == 'hate']))\n",
    "print (r2d2_hate)\n",
    "print ('\\n')\n",
    "\n",
    "jarjar = (star_wars['Jar Jar Binks'])\n",
    "jarjar_hate = (len(jarjar[jarjar == 'hate']))\n",
    "print (jarjar_hate)\n",
    "print ('\\n')\n",
    "\n",
    "padme = (star_wars['Padme Amidala'])\n",
    "padme_hate = (len(padme[padme == 'hate']))\n",
    "print (padme_hate)\n",
    "print ('\\n')\n",
    "\n",
    "yoda = (star_wars['Yoda'])\n",
    "yoda_hate = (len(yoda[yoda == 'hate']))\n",
    "print (yoda_hate)\n",
    "print ('\\n')\n",
    "\n",
    "characters_hate = [han_hate, luke_hate, leia_hate, anakin_hate, obi_hate, palpatine_hate, vader_hate,\n",
    "                  lando_hate, boba_hate, c3p0_hate, r2d2_hate, jarjar_hate, padme_hate, yoda_hate]\n",
    "print (characters_hate)\n"
   ]
  },
  {
   "cell_type": "code",
   "execution_count": 58,
   "metadata": {},
   "outputs": [
    {
     "data": {
      "image/png": "[encoded data removed]",
      "text/plain": [
       "<matplotlib.figure.Figure at 0x7f8f3cb0e7f0>"
      ]
     },
     "metadata": {},
     "output_type": "display_data"
    }
   ],
   "source": [
    "#Plotting characters by hate (highly unfavorable)\n",
    "N = 14\n",
    "\n",
    "# values of blue bars (height)\n",
    "character_hate_bar = (characters_hate)\n",
    "\n",
    "\n",
    "# Position of bars on x-axis\n",
    "ind = np.arange(N)\n",
    "\n",
    "# Figure size\n",
    "plt.figure(figsize=(12,6))\n",
    "\n",
    "# Width of a bar \n",
    "width = 0.3       \n",
    "\n",
    "# Plotting\n",
    "plt.bar(ind, character_hate_bar, width, color='red')\n",
    "\n",
    "\n",
    "plt.xlabel('Characters', size=14)\n",
    "plt.ylabel('High Unfavorability (hate)', size=14)\n",
    "plt.title('High Unfavorability by Character', size=22)\n",
    "\n",
    "# xticks()\n",
    "# First argument - A list of positions at which ticks should be placed\n",
    "# Second argument -  A list of labels to place at the given locations\n",
    "plt.xticks(ind + width / 2, ('Han', 'Luke', 'Leia', 'Anakin', 'Obi', 'Palpatine', 'Vader',\n",
    "          'Lando', 'Boba', 'C-3P0', 'R2D2', 'Jar Jar', 'Padme', 'Yoda'), rotation='45')\n",
    "\n",
    "# Show plot\n",
    "plt.show()"
   ]
  },
  {
   "cell_type": "markdown",
   "metadata": {},
   "source": [
    "Surprisingly, JarJar Binks beats out Emporer Palpatine as the most hated (most unfavorable) character out of the 14 characters in the survey. Also surprising is how many people hate Boba Fett, who is usually known as a fan favorite.\n",
    "\n",
    "The most controversial character according to these two charts, is Darth Vader. He has a fairly high favorablitity with 310 responses, and also a fairly high unfavorability with 149 responses. As Vader is one of the most complex characters in the franchise, having started out on the right path as Anakin Skywalker, then turning to the dark side as he grew more angry and hateful, only to then reveal himself to his son and somehow redeam himself before his death, it stands to reason that survey respondants would be the most split on whether they love or hate him. He is also known as a \"badass\" type of character, which many admire, and that also explains the fairly high amount of love that this villain got here."
   ]
  },
  {
   "cell_type": "markdown",
   "metadata": {},
   "source": [
    "# Conclusions based on survey data analysis"
   ]
  },
  {
   "cell_type": "markdown",
   "metadata": {},
   "source": [
    "### I. Based on the above findings, I think it's safe to say that Episode V: The Empire Strikes Back is the clear favorite of the Star Wars film franchise (Episodes I-VI).<br/>\n",
    "* Amongst every subgroup analysed in this study: male, female, fans of the films, non-fans of the films, which character shot first answers, and education levels of respondants, as well as the overall analysis, and we found that Episode V was consistantly ranked the best. \n",
    "* We also concluded that Episode III: Revenge of the Sith was consistantly ranked the worst of the 6 films. <br/>\n",
    "\n",
    "### II. Some of the other interesting findings from this study are: \n",
    "* More males than females watched the films <br/>\n",
    "* Males and females ranked the movies differently except for the best and worst in their rankings\n",
    "* Females were more fond of some of the newer films (episode I and episode II) and didn't like the original Episode IV as much as males\n",
    "* Males tend to be loyalists to the original three movies and ranked the newer three (episodes I, II, III respectively) last\n",
    "* Fans of the franchise are loyalists to the original three films (Episodes IV-VI) and did not like the newer films as much (Episodes I-III)<br/>\n",
    "* Non-fans did not like Episode IV as much as fans did and ranked Episodes I and II higher than fans ranked them. <br/>\n",
    "* While education level did not seem to affect ranking of movies, we saw that respondants with higher than high school level education were more likely to have seen the movies in general. <br/>\n",
    "\n",
    "### III. As far as the characters, there isn't much surprise in who's most and least favorable, except that JarJar Binks is even less favorable than the most evil villain in the franchise: Emporer Palpatine. \n",
    "* The most favorable are Han Solo, followed closely by Yoda who are both known fan favorites. <br/>\n",
    "* The least favorable is JarJar Binks, followed by Emporer Palpatine. <br/>\n",
    "* The most controversial character is Darth Vader with the most split vote of favorability"
   ]
  }
 ],
 "metadata": {
  "kernelspec": {
   "display_name": "Python 3",
   "language": "python",
   "name": "python3"
  },
  "language_info": {
   "codemirror_mode": {
    "name": "ipython",
    "version": 3
   },
   "file_extension": ".py",
   "mimetype": "text/x-python",
   "name": "python",
   "nbconvert_exporter": "python",
   "pygments_lexer": "ipython3",
   "version": "3.8.5"
  }
 },
 "nbformat": 4,
 "nbformat_minor": 1
}
